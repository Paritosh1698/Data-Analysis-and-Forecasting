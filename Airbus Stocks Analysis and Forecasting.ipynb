{
 "cells": [
  {
   "cell_type": "markdown",
   "id": "cSZfd0ZK5uBq",
   "metadata": {
    "id": "cSZfd0ZK5uBq"
   },
   "source": [
    "# **Airbus Stock Analysis and Forecasting**\n",
    "\n",
    "---\n",
    "\n"
   ]
  },
  {
   "cell_type": "markdown",
   "id": "sPKo-WtN5klr",
   "metadata": {
    "id": "sPKo-WtN5klr"
   },
   "source": [
    "First we will start with importing the necessary libraries"
   ]
  },
  {
   "cell_type": "code",
   "execution_count": 43,
   "id": "filled-subdivision",
   "metadata": {
    "id": "filled-subdivision"
   },
   "outputs": [],
   "source": [
    "import pandas as pd\n",
    "import numpy as np\n",
    "from datetime import datetime\n",
    "import math\n",
    "import matplotlib.pyplot as plt\n",
    "import matplotlib.dates as mdates\n",
    "import seaborn as sns\n",
    "import plotly.graph_objects as go\n",
    "from sklearn.preprocessing import MinMaxScaler\n",
    "from sklearn.metrics import mean_squared_error\n",
    "from keras.models import Sequential\n",
    "from keras.layers import Dense, Activation\n",
    "from keras.layers import LSTM"
   ]
  },
  {
   "cell_type": "markdown",
   "id": "btRZIkFq6Fzz",
   "metadata": {
    "id": "btRZIkFq6Fzz"
   },
   "source": [
    "Reading the data from the CSV and storing it as a dataframe. Also, converting the date column into a datetime format."
   ]
  },
  {
   "cell_type": "code",
   "execution_count": 44,
   "id": "compound-energy",
   "metadata": {
    "colab": {
     "base_uri": "https://localhost:8080/",
     "height": 490
    },
    "id": "compound-energy",
    "outputId": "ddf39fb0-f3ef-428f-f9b6-1c3ebd215284"
   },
   "outputs": [],
   "source": [
    "Data = pd.read_csv(r'C:\\Users\\Paritosh\\Downloads\\AIR.PA.csv', parse_dates = ['Date'])\n",
    "df = pd.DataFrame(Data)\n",
    "df['Date'] = pd.to_datetime(df['Date'])"
   ]
  },
  {
   "cell_type": "markdown",
   "id": "EZJjJD-F6-QA",
   "metadata": {
    "id": "EZJjJD-F6-QA"
   },
   "source": [
    "Let's look at a brief summary of the dataframe."
   ]
  },
  {
   "cell_type": "code",
   "execution_count": 45,
   "id": "hybrid-occupation",
   "metadata": {},
   "outputs": [
    {
     "data": {
      "text/html": [
       "<div>\n",
       "<style scoped>\n",
       "    .dataframe tbody tr th:only-of-type {\n",
       "        vertical-align: middle;\n",
       "    }\n",
       "\n",
       "    .dataframe tbody tr th {\n",
       "        vertical-align: top;\n",
       "    }\n",
       "\n",
       "    .dataframe thead th {\n",
       "        text-align: right;\n",
       "    }\n",
       "</style>\n",
       "<table border=\"1\" class=\"dataframe\">\n",
       "  <thead>\n",
       "    <tr style=\"text-align: right;\">\n",
       "      <th></th>\n",
       "      <th>Date</th>\n",
       "      <th>Open</th>\n",
       "      <th>High</th>\n",
       "      <th>Low</th>\n",
       "      <th>Close</th>\n",
       "      <th>Adj Close</th>\n",
       "      <th>Volume</th>\n",
       "    </tr>\n",
       "  </thead>\n",
       "  <tbody>\n",
       "    <tr>\n",
       "      <th>0</th>\n",
       "      <td>2001-09-17</td>\n",
       "      <td>13.00</td>\n",
       "      <td>13.08</td>\n",
       "      <td>10.56</td>\n",
       "      <td>12.22</td>\n",
       "      <td>8.126192</td>\n",
       "      <td>6345714.0</td>\n",
       "    </tr>\n",
       "    <tr>\n",
       "      <th>1</th>\n",
       "      <td>2001-09-18</td>\n",
       "      <td>12.00</td>\n",
       "      <td>12.01</td>\n",
       "      <td>10.86</td>\n",
       "      <td>11.05</td>\n",
       "      <td>7.348153</td>\n",
       "      <td>3341069.0</td>\n",
       "    </tr>\n",
       "    <tr>\n",
       "      <th>2</th>\n",
       "      <td>2001-09-19</td>\n",
       "      <td>11.10</td>\n",
       "      <td>11.47</td>\n",
       "      <td>10.20</td>\n",
       "      <td>11.14</td>\n",
       "      <td>7.408002</td>\n",
       "      <td>4203659.0</td>\n",
       "    </tr>\n",
       "    <tr>\n",
       "      <th>3</th>\n",
       "      <td>2001-09-20</td>\n",
       "      <td>11.40</td>\n",
       "      <td>11.60</td>\n",
       "      <td>9.70</td>\n",
       "      <td>10.21</td>\n",
       "      <td>6.789559</td>\n",
       "      <td>4100068.0</td>\n",
       "    </tr>\n",
       "    <tr>\n",
       "      <th>4</th>\n",
       "      <td>2001-09-21</td>\n",
       "      <td>9.82</td>\n",
       "      <td>10.80</td>\n",
       "      <td>9.14</td>\n",
       "      <td>9.65</td>\n",
       "      <td>6.417164</td>\n",
       "      <td>3182727.0</td>\n",
       "    </tr>\n",
       "  </tbody>\n",
       "</table>\n",
       "</div>"
      ],
      "text/plain": [
       "        Date   Open   High    Low  Close  Adj Close     Volume\n",
       "0 2001-09-17  13.00  13.08  10.56  12.22   8.126192  6345714.0\n",
       "1 2001-09-18  12.00  12.01  10.86  11.05   7.348153  3341069.0\n",
       "2 2001-09-19  11.10  11.47  10.20  11.14   7.408002  4203659.0\n",
       "3 2001-09-20  11.40  11.60   9.70  10.21   6.789559  4100068.0\n",
       "4 2001-09-21   9.82  10.80   9.14   9.65   6.417164  3182727.0"
      ]
     },
     "execution_count": 45,
     "metadata": {},
     "output_type": "execute_result"
    }
   ],
   "source": [
    "df.head()"
   ]
  },
  {
   "cell_type": "code",
   "execution_count": 46,
   "id": "welcome-civilization",
   "metadata": {
    "colab": {
     "base_uri": "https://localhost:8080/",
     "height": 561
    },
    "id": "welcome-civilization",
    "outputId": "cab66b54-29ae-4824-9cde-132e2e2b4631"
   },
   "outputs": [
    {
     "name": "stdout",
     "output_type": "stream",
     "text": [
      "<class 'pandas.core.frame.DataFrame'>\n",
      "RangeIndex: 5470 entries, 0 to 5469\n",
      "Data columns (total 7 columns):\n",
      " #   Column     Non-Null Count  Dtype         \n",
      "---  ------     --------------  -----         \n",
      " 0   Date       5470 non-null   datetime64[ns]\n",
      " 1   Open       5469 non-null   float64       \n",
      " 2   High       5469 non-null   float64       \n",
      " 3   Low        5469 non-null   float64       \n",
      " 4   Close      5469 non-null   float64       \n",
      " 5   Adj Close  5469 non-null   float64       \n",
      " 6   Volume     5469 non-null   float64       \n",
      "dtypes: datetime64[ns](1), float64(6)\n",
      "memory usage: 299.3 KB\n",
      "\n",
      "\n"
     ]
    },
    {
     "data": {
      "text/html": [
       "<div>\n",
       "<style scoped>\n",
       "    .dataframe tbody tr th:only-of-type {\n",
       "        vertical-align: middle;\n",
       "    }\n",
       "\n",
       "    .dataframe tbody tr th {\n",
       "        vertical-align: top;\n",
       "    }\n",
       "\n",
       "    .dataframe thead th {\n",
       "        text-align: right;\n",
       "    }\n",
       "</style>\n",
       "<table border=\"1\" class=\"dataframe\">\n",
       "  <thead>\n",
       "    <tr style=\"text-align: right;\">\n",
       "      <th></th>\n",
       "      <th>Open</th>\n",
       "      <th>High</th>\n",
       "      <th>Low</th>\n",
       "      <th>Close</th>\n",
       "      <th>Adj Close</th>\n",
       "      <th>Volume</th>\n",
       "    </tr>\n",
       "  </thead>\n",
       "  <tbody>\n",
       "    <tr>\n",
       "      <th>count</th>\n",
       "      <td>5469.000000</td>\n",
       "      <td>5469.000000</td>\n",
       "      <td>5469.000000</td>\n",
       "      <td>5469.000000</td>\n",
       "      <td>5469.000000</td>\n",
       "      <td>5.469000e+03</td>\n",
       "    </tr>\n",
       "    <tr>\n",
       "      <th>mean</th>\n",
       "      <td>47.280869</td>\n",
       "      <td>47.894655</td>\n",
       "      <td>46.658186</td>\n",
       "      <td>47.285252</td>\n",
       "      <td>42.663492</td>\n",
       "      <td>2.407117e+06</td>\n",
       "    </tr>\n",
       "    <tr>\n",
       "      <th>std</th>\n",
       "      <td>35.547810</td>\n",
       "      <td>35.931463</td>\n",
       "      <td>35.166626</td>\n",
       "      <td>35.550970</td>\n",
       "      <td>35.751782</td>\n",
       "      <td>1.877375e+06</td>\n",
       "    </tr>\n",
       "    <tr>\n",
       "      <th>min</th>\n",
       "      <td>6.490000</td>\n",
       "      <td>7.050000</td>\n",
       "      <td>6.330000</td>\n",
       "      <td>6.500000</td>\n",
       "      <td>4.448979</td>\n",
       "      <td>0.000000e+00</td>\n",
       "    </tr>\n",
       "    <tr>\n",
       "      <th>25%</th>\n",
       "      <td>18.655001</td>\n",
       "      <td>18.945000</td>\n",
       "      <td>18.330000</td>\n",
       "      <td>18.674999</td>\n",
       "      <td>14.384488</td>\n",
       "      <td>1.419355e+06</td>\n",
       "    </tr>\n",
       "    <tr>\n",
       "      <th>50%</th>\n",
       "      <td>30.000000</td>\n",
       "      <td>30.379999</td>\n",
       "      <td>29.760000</td>\n",
       "      <td>30.080000</td>\n",
       "      <td>23.857052</td>\n",
       "      <td>1.985868e+06</td>\n",
       "    </tr>\n",
       "    <tr>\n",
       "      <th>75%</th>\n",
       "      <td>68.949997</td>\n",
       "      <td>70.010002</td>\n",
       "      <td>67.779999</td>\n",
       "      <td>69.050003</td>\n",
       "      <td>65.076645</td>\n",
       "      <td>2.862441e+06</td>\n",
       "    </tr>\n",
       "    <tr>\n",
       "      <th>max</th>\n",
       "      <td>138.479996</td>\n",
       "      <td>139.399994</td>\n",
       "      <td>137.139999</td>\n",
       "      <td>139.000000</td>\n",
       "      <td>132.692581</td>\n",
       "      <td>6.833590e+07</td>\n",
       "    </tr>\n",
       "  </tbody>\n",
       "</table>\n",
       "</div>"
      ],
      "text/plain": [
       "              Open         High          Low        Close    Adj Close  \\\n",
       "count  5469.000000  5469.000000  5469.000000  5469.000000  5469.000000   \n",
       "mean     47.280869    47.894655    46.658186    47.285252    42.663492   \n",
       "std      35.547810    35.931463    35.166626    35.550970    35.751782   \n",
       "min       6.490000     7.050000     6.330000     6.500000     4.448979   \n",
       "25%      18.655001    18.945000    18.330000    18.674999    14.384488   \n",
       "50%      30.000000    30.379999    29.760000    30.080000    23.857052   \n",
       "75%      68.949997    70.010002    67.779999    69.050003    65.076645   \n",
       "max     138.479996   139.399994   137.139999   139.000000   132.692581   \n",
       "\n",
       "             Volume  \n",
       "count  5.469000e+03  \n",
       "mean   2.407117e+06  \n",
       "std    1.877375e+06  \n",
       "min    0.000000e+00  \n",
       "25%    1.419355e+06  \n",
       "50%    1.985868e+06  \n",
       "75%    2.862441e+06  \n",
       "max    6.833590e+07  "
      ]
     },
     "execution_count": 46,
     "metadata": {},
     "output_type": "execute_result"
    }
   ],
   "source": [
    "df.info()\n",
    "print(\"\\n\")\n",
    "df.describe()"
   ]
  },
  {
   "cell_type": "markdown",
   "id": "chxU-KhV7Dd-",
   "metadata": {
    "id": "chxU-KhV7Dd-"
   },
   "source": [
    "Removing all the outliers and null values."
   ]
  },
  {
   "cell_type": "code",
   "execution_count": 47,
   "id": "expired-shareware",
   "metadata": {
    "id": "expired-shareware"
   },
   "outputs": [],
   "source": [
    "df.isnull().sum()\n",
    "df.isna().sum()\n",
    "df.dropna(inplace = True)"
   ]
  },
  {
   "cell_type": "markdown",
   "id": "lR5EyiEt7k0m",
   "metadata": {
    "id": "lR5EyiEt7k0m"
   },
   "source": [
    "Now we can plot the data and have a visualized look at it before we do some modifications."
   ]
  },
  {
   "cell_type": "code",
   "execution_count": 48,
   "id": "greater-tamil",
   "metadata": {
    "colab": {
     "base_uri": "https://localhost:8080/",
     "height": 466
    },
    "id": "greater-tamil",
    "outputId": "a3ac56be-0f30-4be4-c50a-fcab23ae3cf7"
   },
   "outputs": [
    {
     "data": {
      "text/plain": [
       "<AxesSubplot:>"
      ]
     },
     "execution_count": 48,
     "metadata": {},
     "output_type": "execute_result"
    },
    {
     "data": {
      "image/png": "[encoded data removed]",
      "text/plain": [
       "<Figure size 432x288 with 1 Axes>"
      ]
     },
     "metadata": {
      "needs_background": "light"
     },
     "output_type": "display_data"
    }
   ],
   "source": [
    "sns.lineplot(data = df[['Open','High','Low','Close','Adj Close']])"
   ]
  },
  {
   "cell_type": "markdown",
   "id": "5D9w1hwI7uIc",
   "metadata": {
    "id": "5D9w1hwI7uIc"
   },
   "source": [
    "We can also summarise the data from a daily data to yearly to have a better understanding from a different perspective."
   ]
  },
  {
   "cell_type": "code",
   "execution_count": 49,
   "id": "rocky-clone",
   "metadata": {
    "colab": {
     "base_uri": "https://localhost:8080/",
     "height": 235
    },
    "id": "rocky-clone",
    "outputId": "63be3671-97ba-4456-afa1-8d71ff9bfa1e"
   },
   "outputs": [
    {
     "data": {
      "text/html": [
       "<div>\n",
       "<style scoped>\n",
       "    .dataframe tbody tr th:only-of-type {\n",
       "        vertical-align: middle;\n",
       "    }\n",
       "\n",
       "    .dataframe tbody tr th {\n",
       "        vertical-align: top;\n",
       "    }\n",
       "\n",
       "    .dataframe thead th {\n",
       "        text-align: right;\n",
       "    }\n",
       "</style>\n",
       "<table border=\"1\" class=\"dataframe\">\n",
       "  <thead>\n",
       "    <tr style=\"text-align: right;\">\n",
       "      <th></th>\n",
       "      <th>Open</th>\n",
       "      <th>High</th>\n",
       "      <th>Low</th>\n",
       "      <th>Close</th>\n",
       "      <th>Adj Close</th>\n",
       "      <th>Volume</th>\n",
       "    </tr>\n",
       "    <tr>\n",
       "      <th>Year</th>\n",
       "      <th></th>\n",
       "      <th></th>\n",
       "      <th></th>\n",
       "      <th></th>\n",
       "      <th></th>\n",
       "      <th></th>\n",
       "    </tr>\n",
       "  </thead>\n",
       "  <tbody>\n",
       "    <tr>\n",
       "      <th>2001</th>\n",
       "      <td>12.885526</td>\n",
       "      <td>13.203947</td>\n",
       "      <td>12.456711</td>\n",
       "      <td>12.856053</td>\n",
       "      <td>8.549162</td>\n",
       "      <td>1.821236e+06</td>\n",
       "    </tr>\n",
       "    <tr>\n",
       "      <th>2002</th>\n",
       "      <td>14.107318</td>\n",
       "      <td>14.434330</td>\n",
       "      <td>13.781034</td>\n",
       "      <td>14.096590</td>\n",
       "      <td>9.533951</td>\n",
       "      <td>1.701342e+06</td>\n",
       "    </tr>\n",
       "    <tr>\n",
       "      <th>2003</th>\n",
       "      <td>12.274038</td>\n",
       "      <td>12.557538</td>\n",
       "      <td>12.049269</td>\n",
       "      <td>12.319269</td>\n",
       "      <td>8.664960</td>\n",
       "      <td>2.251996e+06</td>\n",
       "    </tr>\n",
       "    <tr>\n",
       "      <th>2004</th>\n",
       "      <td>20.665000</td>\n",
       "      <td>20.956336</td>\n",
       "      <td>20.403435</td>\n",
       "      <td>20.690954</td>\n",
       "      <td>14.887012</td>\n",
       "      <td>1.876381e+06</td>\n",
       "    </tr>\n",
       "    <tr>\n",
       "      <th>2005</th>\n",
       "      <td>26.086846</td>\n",
       "      <td>26.352000</td>\n",
       "      <td>25.867885</td>\n",
       "      <td>26.145077</td>\n",
       "      <td>19.497638</td>\n",
       "      <td>1.858644e+06</td>\n",
       "    </tr>\n",
       "    <tr>\n",
       "      <th>2006</th>\n",
       "      <td>26.275843</td>\n",
       "      <td>26.617372</td>\n",
       "      <td>25.883922</td>\n",
       "      <td>26.248039</td>\n",
       "      <td>20.031373</td>\n",
       "      <td>4.312240e+06</td>\n",
       "    </tr>\n",
       "    <tr>\n",
       "      <th>2007</th>\n",
       "      <td>23.095059</td>\n",
       "      <td>23.349216</td>\n",
       "      <td>22.780784</td>\n",
       "      <td>23.050275</td>\n",
       "      <td>17.805959</td>\n",
       "      <td>3.819922e+06</td>\n",
       "    </tr>\n",
       "    <tr>\n",
       "      <th>2008</th>\n",
       "      <td>14.392480</td>\n",
       "      <td>14.722910</td>\n",
       "      <td>14.007793</td>\n",
       "      <td>14.337754</td>\n",
       "      <td>11.212812</td>\n",
       "      <td>4.370699e+06</td>\n",
       "    </tr>\n",
       "    <tr>\n",
       "      <th>2009</th>\n",
       "      <td>12.505789</td>\n",
       "      <td>12.740559</td>\n",
       "      <td>12.267898</td>\n",
       "      <td>12.507613</td>\n",
       "      <td>9.957454</td>\n",
       "      <td>2.598176e+06</td>\n",
       "    </tr>\n",
       "    <tr>\n",
       "      <th>2010</th>\n",
       "      <td>16.580176</td>\n",
       "      <td>16.811270</td>\n",
       "      <td>16.367461</td>\n",
       "      <td>16.598652</td>\n",
       "      <td>13.297860</td>\n",
       "      <td>2.808711e+06</td>\n",
       "    </tr>\n",
       "    <tr>\n",
       "      <th>2011</th>\n",
       "      <td>21.485078</td>\n",
       "      <td>21.800078</td>\n",
       "      <td>21.162607</td>\n",
       "      <td>21.509572</td>\n",
       "      <td>17.441383</td>\n",
       "      <td>2.199017e+06</td>\n",
       "    </tr>\n",
       "    <tr>\n",
       "      <th>2012</th>\n",
       "      <td>27.839744</td>\n",
       "      <td>28.154783</td>\n",
       "      <td>27.507047</td>\n",
       "      <td>27.848386</td>\n",
       "      <td>23.216602</td>\n",
       "      <td>2.157528e+06</td>\n",
       "    </tr>\n",
       "    <tr>\n",
       "      <th>2013</th>\n",
       "      <td>43.341980</td>\n",
       "      <td>43.809059</td>\n",
       "      <td>42.878118</td>\n",
       "      <td>43.378078</td>\n",
       "      <td>37.008170</td>\n",
       "      <td>2.540356e+06</td>\n",
       "    </tr>\n",
       "    <tr>\n",
       "      <th>2014</th>\n",
       "      <td>49.163477</td>\n",
       "      <td>49.631914</td>\n",
       "      <td>48.538613</td>\n",
       "      <td>49.063242</td>\n",
       "      <td>42.406934</td>\n",
       "      <td>2.755717e+06</td>\n",
       "    </tr>\n",
       "    <tr>\n",
       "      <th>2015</th>\n",
       "      <td>58.768451</td>\n",
       "      <td>59.629941</td>\n",
       "      <td>58.019627</td>\n",
       "      <td>58.859608</td>\n",
       "      <td>51.804545</td>\n",
       "      <td>2.788957e+06</td>\n",
       "    </tr>\n",
       "    <tr>\n",
       "      <th>2016</th>\n",
       "      <td>55.339767</td>\n",
       "      <td>56.002393</td>\n",
       "      <td>54.682335</td>\n",
       "      <td>55.393988</td>\n",
       "      <td>49.917875</td>\n",
       "      <td>2.309669e+06</td>\n",
       "    </tr>\n",
       "    <tr>\n",
       "      <th>2017</th>\n",
       "      <td>74.284549</td>\n",
       "      <td>74.976196</td>\n",
       "      <td>73.732745</td>\n",
       "      <td>74.398392</td>\n",
       "      <td>68.542536</td>\n",
       "      <td>1.723348e+06</td>\n",
       "    </tr>\n",
       "    <tr>\n",
       "      <th>2018</th>\n",
       "      <td>97.657098</td>\n",
       "      <td>98.632078</td>\n",
       "      <td>96.522588</td>\n",
       "      <td>97.555373</td>\n",
       "      <td>91.431415</td>\n",
       "      <td>1.611863e+06</td>\n",
       "    </tr>\n",
       "    <tr>\n",
       "      <th>2019</th>\n",
       "      <td>119.262852</td>\n",
       "      <td>120.408711</td>\n",
       "      <td>118.159570</td>\n",
       "      <td>119.392304</td>\n",
       "      <td>113.571594</td>\n",
       "      <td>1.242194e+06</td>\n",
       "    </tr>\n",
       "    <tr>\n",
       "      <th>2020</th>\n",
       "      <td>80.478366</td>\n",
       "      <td>82.159066</td>\n",
       "      <td>78.587393</td>\n",
       "      <td>80.258599</td>\n",
       "      <td>78.168552</td>\n",
       "      <td>2.784079e+06</td>\n",
       "    </tr>\n",
       "    <tr>\n",
       "      <th>2021</th>\n",
       "      <td>105.322984</td>\n",
       "      <td>106.640387</td>\n",
       "      <td>103.992597</td>\n",
       "      <td>105.320233</td>\n",
       "      <td>103.831537</td>\n",
       "      <td>1.596518e+06</td>\n",
       "    </tr>\n",
       "    <tr>\n",
       "      <th>2022</th>\n",
       "      <td>105.594047</td>\n",
       "      <td>107.120817</td>\n",
       "      <td>104.182841</td>\n",
       "      <td>105.650000</td>\n",
       "      <td>105.199231</td>\n",
       "      <td>1.470202e+06</td>\n",
       "    </tr>\n",
       "  </tbody>\n",
       "</table>\n",
       "</div>"
      ],
      "text/plain": [
       "            Open        High         Low       Close   Adj Close        Volume\n",
       "Year                                                                          \n",
       "2001   12.885526   13.203947   12.456711   12.856053    8.549162  1.821236e+06\n",
       "2002   14.107318   14.434330   13.781034   14.096590    9.533951  1.701342e+06\n",
       "2003   12.274038   12.557538   12.049269   12.319269    8.664960  2.251996e+06\n",
       "2004   20.665000   20.956336   20.403435   20.690954   14.887012  1.876381e+06\n",
       "2005   26.086846   26.352000   25.867885   26.145077   19.497638  1.858644e+06\n",
       "2006   26.275843   26.617372   25.883922   26.248039   20.031373  4.312240e+06\n",
       "2007   23.095059   23.349216   22.780784   23.050275   17.805959  3.819922e+06\n",
       "2008   14.392480   14.722910   14.007793   14.337754   11.212812  4.370699e+06\n",
       "2009   12.505789   12.740559   12.267898   12.507613    9.957454  2.598176e+06\n",
       "2010   16.580176   16.811270   16.367461   16.598652   13.297860  2.808711e+06\n",
       "2011   21.485078   21.800078   21.162607   21.509572   17.441383  2.199017e+06\n",
       "2012   27.839744   28.154783   27.507047   27.848386   23.216602  2.157528e+06\n",
       "2013   43.341980   43.809059   42.878118   43.378078   37.008170  2.540356e+06\n",
       "2014   49.163477   49.631914   48.538613   49.063242   42.406934  2.755717e+06\n",
       "2015   58.768451   59.629941   58.019627   58.859608   51.804545  2.788957e+06\n",
       "2016   55.339767   56.002393   54.682335   55.393988   49.917875  2.309669e+06\n",
       "2017   74.284549   74.976196   73.732745   74.398392   68.542536  1.723348e+06\n",
       "2018   97.657098   98.632078   96.522588   97.555373   91.431415  1.611863e+06\n",
       "2019  119.262852  120.408711  118.159570  119.392304  113.571594  1.242194e+06\n",
       "2020   80.478366   82.159066   78.587393   80.258599   78.168552  2.784079e+06\n",
       "2021  105.322984  106.640387  103.992597  105.320233  103.831537  1.596518e+06\n",
       "2022  105.594047  107.120817  104.182841  105.650000  105.199231  1.470202e+06"
      ]
     },
     "execution_count": 49,
     "metadata": {},
     "output_type": "execute_result"
    }
   ],
   "source": [
    "df1 = df\n",
    "df1['Year'] = df1['Date'].dt.strftime('%Y')\n",
    "cols = ['Date','Year','Open','High','Low','Close','Adj Close','Volume']\n",
    "df1 = df1[cols]\n",
    "df1.astype({'Year':'datetime64[ns]'})\n",
    "dfy = df1.groupby(['Year']).mean()\n",
    "dfy"
   ]
  },
  {
   "cell_type": "markdown",
   "id": "f2zVdQLm74Pg",
   "metadata": {
    "id": "f2zVdQLm74Pg"
   },
   "source": [
    "Now for the major part of this project we will use weekly data as it will be more feasible to work with. So, let's convert the daily data into weekly data."
   ]
  },
  {
   "cell_type": "code",
   "execution_count": 50,
   "id": "01a2740b",
   "metadata": {
    "colab": {
     "base_uri": "https://localhost:8080/",
     "height": 381
    },
    "id": "01a2740b",
    "outputId": "1b32a948-a80b-45c2-ea21-2b3f8a213bd7",
    "scrolled": false
   },
   "outputs": [
    {
     "data": {
      "text/html": [
       "<div>\n",
       "<style scoped>\n",
       "    .dataframe tbody tr th:only-of-type {\n",
       "        vertical-align: middle;\n",
       "    }\n",
       "\n",
       "    .dataframe tbody tr th {\n",
       "        vertical-align: top;\n",
       "    }\n",
       "\n",
       "    .dataframe thead th {\n",
       "        text-align: right;\n",
       "    }\n",
       "</style>\n",
       "<table border=\"1\" class=\"dataframe\">\n",
       "  <thead>\n",
       "    <tr style=\"text-align: right;\">\n",
       "      <th></th>\n",
       "      <th>Open</th>\n",
       "      <th>High</th>\n",
       "      <th>Low</th>\n",
       "      <th>Close</th>\n",
       "      <th>Volume</th>\n",
       "    </tr>\n",
       "    <tr>\n",
       "      <th>Date</th>\n",
       "      <th></th>\n",
       "      <th></th>\n",
       "      <th></th>\n",
       "      <th></th>\n",
       "      <th></th>\n",
       "    </tr>\n",
       "  </thead>\n",
       "  <tbody>\n",
       "    <tr>\n",
       "      <th>2001-09-17</th>\n",
       "      <td>13.000000</td>\n",
       "      <td>13.080000</td>\n",
       "      <td>9.140000</td>\n",
       "      <td>9.650000</td>\n",
       "      <td>21173237.0</td>\n",
       "    </tr>\n",
       "    <tr>\n",
       "      <th>2001-09-24</th>\n",
       "      <td>10.350000</td>\n",
       "      <td>12.090000</td>\n",
       "      <td>10.050000</td>\n",
       "      <td>11.540000</td>\n",
       "      <td>10997623.0</td>\n",
       "    </tr>\n",
       "    <tr>\n",
       "      <th>2001-10-01</th>\n",
       "      <td>12.150000</td>\n",
       "      <td>12.150000</td>\n",
       "      <td>9.900000</td>\n",
       "      <td>11.300000</td>\n",
       "      <td>11719518.0</td>\n",
       "    </tr>\n",
       "    <tr>\n",
       "      <th>2001-10-08</th>\n",
       "      <td>11.100000</td>\n",
       "      <td>13.050000</td>\n",
       "      <td>10.360000</td>\n",
       "      <td>12.610000</td>\n",
       "      <td>14632109.0</td>\n",
       "    </tr>\n",
       "    <tr>\n",
       "      <th>2001-10-15</th>\n",
       "      <td>12.520000</td>\n",
       "      <td>12.800000</td>\n",
       "      <td>11.750000</td>\n",
       "      <td>12.080000</td>\n",
       "      <td>8122696.0</td>\n",
       "    </tr>\n",
       "    <tr>\n",
       "      <th>...</th>\n",
       "      <td>...</td>\n",
       "      <td>...</td>\n",
       "      <td>...</td>\n",
       "      <td>...</td>\n",
       "      <td>...</td>\n",
       "    </tr>\n",
       "    <tr>\n",
       "      <th>2022-11-28</th>\n",
       "      <td>110.400002</td>\n",
       "      <td>112.300003</td>\n",
       "      <td>107.220001</td>\n",
       "      <td>110.980003</td>\n",
       "      <td>8101228.0</td>\n",
       "    </tr>\n",
       "    <tr>\n",
       "      <th>2022-12-05</th>\n",
       "      <td>111.120003</td>\n",
       "      <td>111.940002</td>\n",
       "      <td>107.040001</td>\n",
       "      <td>111.639999</td>\n",
       "      <td>6149425.0</td>\n",
       "    </tr>\n",
       "    <tr>\n",
       "      <th>2022-12-12</th>\n",
       "      <td>111.300003</td>\n",
       "      <td>114.300003</td>\n",
       "      <td>109.320000</td>\n",
       "      <td>109.980003</td>\n",
       "      <td>6602116.0</td>\n",
       "    </tr>\n",
       "    <tr>\n",
       "      <th>2022-12-19</th>\n",
       "      <td>110.239998</td>\n",
       "      <td>114.120003</td>\n",
       "      <td>108.879997</td>\n",
       "      <td>111.739998</td>\n",
       "      <td>3612344.0</td>\n",
       "    </tr>\n",
       "    <tr>\n",
       "      <th>2022-12-26</th>\n",
       "      <td>112.940002</td>\n",
       "      <td>113.680000</td>\n",
       "      <td>110.580002</td>\n",
       "      <td>111.019997</td>\n",
       "      <td>2049877.0</td>\n",
       "    </tr>\n",
       "  </tbody>\n",
       "</table>\n",
       "<p>1111 rows × 5 columns</p>\n",
       "</div>"
      ],
      "text/plain": [
       "                  Open        High         Low       Close      Volume\n",
       "Date                                                                  \n",
       "2001-09-17   13.000000   13.080000    9.140000    9.650000  21173237.0\n",
       "2001-09-24   10.350000   12.090000   10.050000   11.540000  10997623.0\n",
       "2001-10-01   12.150000   12.150000    9.900000   11.300000  11719518.0\n",
       "2001-10-08   11.100000   13.050000   10.360000   12.610000  14632109.0\n",
       "2001-10-15   12.520000   12.800000   11.750000   12.080000   8122696.0\n",
       "...                ...         ...         ...         ...         ...\n",
       "2022-11-28  110.400002  112.300003  107.220001  110.980003   8101228.0\n",
       "2022-12-05  111.120003  111.940002  107.040001  111.639999   6149425.0\n",
       "2022-12-12  111.300003  114.300003  109.320000  109.980003   6602116.0\n",
       "2022-12-19  110.239998  114.120003  108.879997  111.739998   3612344.0\n",
       "2022-12-26  112.940002  113.680000  110.580002  111.019997   2049877.0\n",
       "\n",
       "[1111 rows x 5 columns]"
      ]
     },
     "execution_count": 50,
     "metadata": {},
     "output_type": "execute_result"
    }
   ],
   "source": [
    "def take_first(array_like):\n",
    "    return array_like[0]\n",
    "def take_last(array_like):\n",
    "    return array_like[-1]\n",
    "#df = df.set_index('Date')\n",
    "logic = {'Open' : 'first',\n",
    "         'High' : 'max',\n",
    "         'Low'  : 'min',\n",
    "         'Close': 'last',\n",
    "         'Volume': 'sum'}\n",
    "df.index = pd.to_datetime(df.index)\n",
    "dfw = df.resample('W',on = 'Date').apply(logic)\n",
    "dfw.index = dfw.index - pd.tseries.frequencies.to_offset(\"6D\")\n",
    "dfw = dfw[['Open', 'High', 'Low', 'Close', 'Volume']]\n",
    "dfw"
   ]
  },
  {
   "cell_type": "markdown",
   "id": "kCji8V2A8VEC",
   "metadata": {
    "id": "kCji8V2A8VEC"
   },
   "source": [
    "Since we have the weekly data, standard practice to analyse any stock data would be to calculate the Percentage Change of the price of the stock. To do so, we apply a lambda function to the dataframe to create a new column for Change(%) and calculate the percentage change for each week."
   ]
  },
  {
   "cell_type": "code",
   "execution_count": 51,
   "id": "administrative-hunger",
   "metadata": {
    "colab": {
     "base_uri": "https://localhost:8080/",
     "height": 238
    },
    "id": "administrative-hunger",
    "outputId": "fd669938-62f0-40f3-84ef-241994ff0bb0"
   },
   "outputs": [
    {
     "data": {
      "text/html": [
       "<div>\n",
       "<style scoped>\n",
       "    .dataframe tbody tr th:only-of-type {\n",
       "        vertical-align: middle;\n",
       "    }\n",
       "\n",
       "    .dataframe tbody tr th {\n",
       "        vertical-align: top;\n",
       "    }\n",
       "\n",
       "    .dataframe thead th {\n",
       "        text-align: right;\n",
       "    }\n",
       "</style>\n",
       "<table border=\"1\" class=\"dataframe\">\n",
       "  <thead>\n",
       "    <tr style=\"text-align: right;\">\n",
       "      <th></th>\n",
       "      <th>Open</th>\n",
       "      <th>High</th>\n",
       "      <th>Low</th>\n",
       "      <th>Close</th>\n",
       "      <th>Volume</th>\n",
       "      <th>Change(%)</th>\n",
       "    </tr>\n",
       "    <tr>\n",
       "      <th>Date</th>\n",
       "      <th></th>\n",
       "      <th></th>\n",
       "      <th></th>\n",
       "      <th></th>\n",
       "      <th></th>\n",
       "      <th></th>\n",
       "    </tr>\n",
       "  </thead>\n",
       "  <tbody>\n",
       "    <tr>\n",
       "      <th>2001-09-17</th>\n",
       "      <td>13.00</td>\n",
       "      <td>13.08</td>\n",
       "      <td>9.14</td>\n",
       "      <td>9.65</td>\n",
       "      <td>21173237.0</td>\n",
       "      <td>0.000000</td>\n",
       "    </tr>\n",
       "    <tr>\n",
       "      <th>2001-09-24</th>\n",
       "      <td>10.35</td>\n",
       "      <td>12.09</td>\n",
       "      <td>10.05</td>\n",
       "      <td>11.54</td>\n",
       "      <td>10997623.0</td>\n",
       "      <td>19.585492</td>\n",
       "    </tr>\n",
       "    <tr>\n",
       "      <th>2001-10-01</th>\n",
       "      <td>12.15</td>\n",
       "      <td>12.15</td>\n",
       "      <td>9.90</td>\n",
       "      <td>11.30</td>\n",
       "      <td>11719518.0</td>\n",
       "      <td>17.098446</td>\n",
       "    </tr>\n",
       "    <tr>\n",
       "      <th>2001-10-08</th>\n",
       "      <td>11.10</td>\n",
       "      <td>13.05</td>\n",
       "      <td>10.36</td>\n",
       "      <td>12.61</td>\n",
       "      <td>14632109.0</td>\n",
       "      <td>30.673575</td>\n",
       "    </tr>\n",
       "    <tr>\n",
       "      <th>2001-10-15</th>\n",
       "      <td>12.52</td>\n",
       "      <td>12.80</td>\n",
       "      <td>11.75</td>\n",
       "      <td>12.08</td>\n",
       "      <td>8122696.0</td>\n",
       "      <td>25.181347</td>\n",
       "    </tr>\n",
       "  </tbody>\n",
       "</table>\n",
       "</div>"
      ],
      "text/plain": [
       "             Open   High    Low  Close      Volume  Change(%)\n",
       "Date                                                         \n",
       "2001-09-17  13.00  13.08   9.14   9.65  21173237.0   0.000000\n",
       "2001-09-24  10.35  12.09  10.05  11.54  10997623.0  19.585492\n",
       "2001-10-01  12.15  12.15   9.90  11.30  11719518.0  17.098446\n",
       "2001-10-08  11.10  13.05  10.36  12.61  14632109.0  30.673575\n",
       "2001-10-15  12.52  12.80  11.75  12.08   8122696.0  25.181347"
      ]
     },
     "execution_count": 51,
     "metadata": {},
     "output_type": "execute_result"
    }
   ],
   "source": [
    "dfw['Change(%)'] = dfw['Close'].apply(lambda x: ((x - 9.65)/9.65) * 100)\n",
    "dfw.head()"
   ]
  },
  {
   "cell_type": "markdown",
   "id": "tUmDucUz8y2f",
   "metadata": {
    "id": "tUmDucUz8y2f"
   },
   "source": [
    "Now the best way to look at the change would be visualising it. As can be seen from the plot below, the percentage change looks identical to the plot above for the OHLC Data. However, it would make more sense this way because the change is actually the summarised version of OHLC data so according to that, this is quite accurate."
   ]
  },
  {
   "cell_type": "code",
   "execution_count": 52,
   "id": "exterior-induction",
   "metadata": {
    "colab": {
     "base_uri": "https://localhost:8080/",
     "height": 453
    },
    "id": "exterior-induction",
    "outputId": "898c5060-3303-4e6b-8b32-1da9a4e7fbef"
   },
   "outputs": [
    {
     "data": {
      "image/png": "[encoded data removed]",
      "text/plain": [
       "<Figure size 432x288 with 1 Axes>"
      ]
     },
     "metadata": {
      "needs_background": "light"
     },
     "output_type": "display_data"
    }
   ],
   "source": [
    "sns.lineplot(data = dfw[['Change(%)']])\n",
    "plt.grid()"
   ]
  },
  {
   "cell_type": "markdown",
   "id": "hBZloecHLned",
   "metadata": {
    "id": "hBZloecHLned"
   },
   "source": [
    "Another most commonly used visualisation technique is the Candle-Stick chart which provides an in-depth visualisation of the data. This is especially used to represent stock data. For this chart, we have sliced the data for the years after 2015 so that it can be easier to understand. The past data from the beginning would not really matter if someone wants to look at the recent data."
   ]
  },
  {
   "cell_type": "code",
   "execution_count": 53,
   "id": "mQokgfnALkN4",
   "metadata": {
    "colab": {
     "base_uri": "https://localhost:8080/",
     "height": 542
    },
    "id": "mQokgfnALkN4",
    "outputId": "7e95cabc-4b26-4ee3-b640-a0e99133eb24"
   },
   "outputs": [
    {
     "data": {
      "application/vnd.plotly.v1+json": {
       "config": {
        "plotlyServerURL": "https://plot.ly"
       },
       "data": [
        {
         "close": [
          44.549999,
          46.395,
          49.279999,
          47.200001,
          48.345001,
          49.75,
          52.459999,
          55.330002,
          59.419998,
          63.560001,
          61.400002,
          60.41,
          60.759998,
          61.91,
          62.18,
          65.139999,
          62,
          63.400002,
          60.860001,
          63.73,
          62,
          59.66,
          60.439999,
          58.939999,
          61.509998,
          59.209999,
          60.400002,
          64.650002,
          63.060001,
          64.599998,
          66.5,
          62.400002,
          57.389999,
          58.279999,
          55.32,
          55.57,
          54.419998,
          54.16,
          54.68,
          57.610001,
          55.529999,
          60.169998,
          63.360001,
          66.099998,
          63.529999,
          66.419998,
          67.949997,
          64.010002,
          62.279999,
          63.259998,
          62.150002,
          62.580002,
          58.759998,
          56.150002,
          56.950001,
          57.82,
          54.060001,
          51.310001,
          55.25,
          57.509998,
          62.099998,
          60.130001,
          60.599998,
          59.77,
          56.98,
          57.509998,
          56.580002,
          58.169998,
          54.610001,
          54.029999,
          55.139999,
          54.41,
          56.02,
          53.349998,
          52.66,
          50.830002,
          52.110001,
          51.48,
          49.029999,
          52.610001,
          51.400002,
          52.630001,
          51,
          52.029999,
          49.860001,
          51.040001,
          53.189999,
          55.630001,
          52.580002,
          53.810001,
          53.84,
          53.830002,
          52.599998,
          54.259998,
          55,
          51.919998,
          54.759998,
          55.240002,
          60.310001,
          58.990002,
          59.580002,
          64.18,
          62.900002,
          62.84,
          65.139999,
          65.639999,
          65.339996,
          64.669998,
          63.060001,
          64.389999,
          65.400002,
          68.349998,
          71.169998,
          70.059998,
          70.010002,
          70.019997,
          71.330002,
          72.5,
          71.330002,
          71.57,
          74.230003,
          75.879997,
          74.459999,
          73.760002,
          73.900002,
          75.599998,
          75.410004,
          74.93,
          75.699997,
          72,
          74.099998,
          74.559998,
          71.370003,
          72.379997,
          73.32,
          70.75,
          71.5,
          70.860001,
          71.300003,
          70.5,
          72,
          77.339996,
          80.410004,
          81.269997,
          77.199997,
          80.720001,
          86.559998,
          87.169998,
          83.720001,
          84.879997,
          85.800003,
          85.309998,
          87.769997,
          85.25,
          84.550003,
          83,
          85.599998,
          90.400002,
          92.790001,
          89.559998,
          87.970001,
          83.540001,
          95.529999,
          98.300003,
          93.949997,
          98.330002,
          96,
          92.919998,
          93.800003,
          94.400002,
          91.5,
          94.169998,
          96.93,
          98.690002,
          99.449997,
          97.839996,
          98.209999,
          99.389999,
          100.900002,
          103.599998,
          100.639999,
          100.260002,
          98.5,
          107.400002,
          105.760002,
          109.199997,
          107.760002,
          107.519997,
          107.720001,
          107.5,
          106.260002,
          104.839996,
          106.199997,
          106.800003,
          108.18,
          104,
          100.260002,
          97.949997,
          96.150002,
          95.610001,
          94.68,
          92.889999,
          93.410004,
          94.620003,
          89.07,
          88.669998,
          83.099998,
          83.760002,
          85.120003,
          88.379997,
          93.660004,
          96.510002,
          101.120003,
          99.940002,
          110.980003,
          113.699997,
          113.900002,
          111.519997,
          117.68,
          114.599998,
          117.900002,
          118.68,
          118.599998,
          120.239998,
          121.860001,
          119.559998,
          117.5,
          121,
          116.540001,
          114.860001,
          120.919998,
          122.419998,
          122.779999,
          124.68,
          124.580002,
          127.68,
          131.5,
          131,
          123.339996,
          125.120003,
          123.019997,
          122.620003,
          125.339996,
          126.599998,
          125.5,
          120.099998,
          119,
          117.779999,
          118.879997,
          120.400002,
          123.519997,
          129.979996,
          132.960007,
          136.399994,
          133.699997,
          133.399994,
          127.040001,
          125.900002,
          131.880005,
          133.279999,
          134.039993,
          134.419998,
          136.779999,
          139,
          133.240005,
          136.779999,
          129.860001,
          130.839996,
          108.099998,
          99.5,
          74.330002,
          63.779999,
          68.169998,
          49.505001,
          61,
          56.799999,
          52.34,
          57.880001,
          56.07,
          49.310001,
          54.040001,
          56.700001,
          80.980003,
          66.949997,
          68.860001,
          61.880001,
          65.629997,
          65.449997,
          65.900002,
          63.93,
          62.009998,
          69.300003,
          72.110001,
          69.080002,
          71.440002,
          69.779999,
          68.82,
          68.599998,
          60.02,
          64.620003,
          66.779999,
          64.339996,
          68.029999,
          62.59,
          70,
          85.559998,
          88.639999,
          90,
          96.239998,
          92.190002,
          89,
          92.040001,
          89.779999,
          90.099998,
          92.550003,
          88.830002,
          83.199997,
          93.419998,
          92.209999,
          91.769997,
          95.910004,
          95.419998,
          100,
          97.339996,
          97.68,
          100.419998,
          101.099998,
          103.68,
          98.459999,
          99.940002,
          98.370003,
          99.57,
          97.910004,
          108,
          109.919998,
          112.360001,
          112.720001,
          110.32,
          112.220001,
          112.760002,
          110.639999,
          111.5,
          115.699997,
          116.900002,
          115.440002,
          110.480003,
          115.019997,
          114.480003,
          114.360001,
          113.040001,
          115.400002,
          116.580002,
          113.220001,
          114.900002,
          109.779999,
          110.599998,
          113.900002,
          112.139999,
          109.400002,
          99.360001,
          98.550003,
          105.580002,
          104.139999,
          111.68,
          112.360001,
          117.699997,
          117.339996,
          113.400002,
          111.379997,
          110.32,
          118.5,
          115,
          115.919998,
          97.099998,
          103.559998,
          106.139999,
          107.540001,
          111.019997,
          103.400002,
          106.120003,
          104.660004,
          105.540001,
          107.5,
          106.360001,
          106.919998,
          111.860001,
          108.68,
          102,
          94.120003,
          92.5,
          95.239998,
          96.040001,
          103.720001,
          105.580002,
          104.879997,
          104.779999,
          108.419998,
          106.239998,
          101.919998,
          98.959999,
          96,
          91.739998,
          91.980003,
          88.889999,
          92.330002,
          96.589996,
          100.919998,
          110,
          114,
          113,
          114.639999,
          113.82,
          110.980003,
          111.639999,
          109.980003,
          111.739998,
          111.019997
         ],
         "high": [
          45.689999,
          46.599998,
          49.98,
          51.200001,
          48.540001,
          50.060001,
          52.470001,
          55.75,
          59.5,
          63.560001,
          64,
          61.599998,
          61.650002,
          61.91,
          64.580002,
          66.099998,
          65.75,
          63.549999,
          62.459999,
          64.139999,
          65.550003,
          62.869999,
          62.310001,
          60.700001,
          63.080002,
          61.209999,
          60.639999,
          65.419998,
          65.410004,
          65.57,
          67.879997,
          67.839996,
          63.889999,
          58.490002,
          58.209999,
          58.25,
          56.599998,
          55.360001,
          55.290001,
          58.060001,
          57.360001,
          61,
          64.5,
          66.57,
          66.809998,
          66.650002,
          68.410004,
          68.5,
          66.599998,
          67.010002,
          63.59,
          63.540001,
          62.349998,
          60.5,
          57.919998,
          57.82,
          58.41,
          53.75,
          56.349998,
          58.599998,
          62.419998,
          63.450001,
          61.049999,
          62.110001,
          60.48,
          58.029999,
          57.82,
          58.369999,
          59.330002,
          54.68,
          56.25,
          55.299999,
          56.459999,
          56.48,
          54.16,
          52.43,
          56.32,
          52.540001,
          52.009998,
          53.959999,
          53.32,
          54.700001,
          53.419998,
          52.189999,
          52.669998,
          51.43,
          53.32,
          56.040001,
          55.060001,
          54.400002,
          54.099998,
          55.389999,
          54.360001,
          54.75,
          55.900002,
          54.82,
          56.369999,
          56.93,
          60.549999,
          60.77,
          60.599998,
          64.980003,
          64.290001,
          63.049999,
          65.389999,
          66.050003,
          65.940002,
          66.32,
          64.709999,
          64.519997,
          66.839996,
          69.75,
          71.849998,
          71.470001,
          70.900002,
          71.010002,
          72.120003,
          72.599998,
          72.349998,
          72.360001,
          75.779999,
          75.879997,
          76.07,
          74.769997,
          74.190002,
          75.75,
          75.5,
          75.849998,
          77.25,
          76.449997,
          74.720001,
          75.309998,
          74.650002,
          74.650002,
          73.559998,
          73.709999,
          73.980003,
          71.519997,
          72.800003,
          71.870003,
          72,
          77.980003,
          80.68,
          82.25,
          80.370003,
          81.690002,
          88.230003,
          89.120003,
          87.5,
          86.889999,
          86.730003,
          88.419998,
          89.269997,
          87.690002,
          86.949997,
          85.459999,
          86.230003,
          91.900002,
          92.879997,
          94,
          93.199997,
          88.459999,
          95.599998,
          98.300003,
          99.970001,
          98.540001,
          98.599998,
          97.260002,
          95.480003,
          94.919998,
          95.589996,
          95.629997,
          97.949997,
          98.879997,
          100.419998,
          98.989998,
          101.099998,
          99.669998,
          101.099998,
          106.5,
          103.519997,
          101.160004,
          99.110001,
          107.839996,
          109.099998,
          111.160004,
          108.959999,
          109.959999,
          109.040001,
          108.459999,
          110.879997,
          107.940002,
          108,
          107.360001,
          109.160004,
          108.739998,
          105.959999,
          102.620003,
          98.879997,
          99.889999,
          97.129997,
          97.190002,
          93.959999,
          95.459999,
          97.300003,
          92.300003,
          89.269997,
          84.330002,
          85.519997,
          90.540001,
          94.080002,
          97.120003,
          102.120003,
          102.720001,
          111.760002,
          113.82,
          114.339996,
          114.900002,
          119.239998,
          119.440002,
          118.199997,
          119.220001,
          121.220001,
          120.639999,
          123.279999,
          124,
          120.099998,
          122.82,
          121.18,
          118,
          122.440002,
          124.160004,
          126.5,
          126,
          126.080002,
          128.039993,
          133.860001,
          133.380005,
          131.320007,
          127.160004,
          127.379997,
          128.300003,
          126.199997,
          128.779999,
          127.019997,
          124.080002,
          121.459999,
          120.360001,
          120.220001,
          121.379997,
          123.760002,
          130.360001,
          132.960007,
          137.320007,
          136.660004,
          136.199997,
          134.399994,
          127.360001,
          132.5,
          134.880005,
          135.720001,
          135.880005,
          137.199997,
          139.399994,
          137.279999,
          138.460007,
          138.979996,
          133.679993,
          127.360001,
          114.459999,
          96.410004,
          72.330002,
          75.190002,
          67.400002,
          63.200001,
          62.029999,
          57.98,
          65.260002,
          57.900002,
          56.68,
          57.189999,
          64.269997,
          80.980003,
          85.080002,
          72.120003,
          69.290001,
          67.790001,
          68.459999,
          70.739998,
          69.5,
          66.110001,
          69.599998,
          76.18,
          72.540001,
          74.080002,
          75.279999,
          74.029999,
          71.650002,
          68.410004,
          65.099998,
          68.739998,
          67.580002,
          68.699997,
          69.690002,
          71,
          90.43,
          91.400002,
          94.900002,
          97.040001,
          96.5,
          94.209999,
          93.059998,
          93.440002,
          94.57,
          93.25,
          93.480003,
          89.029999,
          94.57,
          94.889999,
          94.669998,
          103.980003,
          101.279999,
          101.059998,
          103.099998,
          98.690002,
          101.440002,
          104.099998,
          104.540001,
          104.18,
          102.760002,
          101.059998,
          99.599998,
          99.900002,
          109.699997,
          110.959999,
          113.220001,
          116.040001,
          114.440002,
          112.400002,
          114.019997,
          113.760002,
          113.879997,
          121,
          117.900002,
          117.019997,
          114.900002,
          116.68,
          118.099998,
          116.699997,
          116.139999,
          118,
          118.879997,
          116.959999,
          115.400002,
          114.339996,
          113.559998,
          114.139999,
          117.620003,
          115.720001,
          112.779999,
          103.720001,
          108.080002,
          105.739998,
          112.419998,
          113.940002,
          121.099998,
          119.720001,
          118.480003,
          115.059998,
          115.599998,
          118.959999,
          120.360001,
          117.300003,
          116.120003,
          106.360001,
          109.519997,
          109.279999,
          113.779999,
          111.919998,
          106.82,
          109.720001,
          106.699997,
          111.440002,
          108.199997,
          109.779999,
          112.279999,
          113.160004,
          111.959999,
          101.839996,
          99,
          96.93,
          96.620003,
          104.239998,
          107.339996,
          106.580002,
          106.139999,
          108.779999,
          111.040001,
          105.739998,
          101.959999,
          97.989998,
          100.720001,
          96.050003,
          93.050003,
          95.160004,
          99.339996,
          101.959999,
          110,
          115.660004,
          115.440002,
          115.360001,
          114.940002,
          112.300003,
          111.940002,
          114.300003,
          114.120003,
          113.68
         ],
         "low": [
          41.064999,
          43.740002,
          46.040001,
          46.900002,
          46.555,
          47.509998,
          49.610001,
          50.98,
          55.169998,
          57.919998,
          59.400002,
          57.849998,
          60.299999,
          59.549999,
          60.700001,
          61.880001,
          59.509998,
          58.119999,
          58.880001,
          60.150002,
          61.82,
          59.029999,
          57.84,
          56.130001,
          59.77,
          58,
          56.32,
          61.139999,
          62.720001,
          60.080002,
          64.279999,
          60.52,
          57.389999,
          52.02,
          55.009998,
          55,
          53.68,
          51.259998,
          51.34,
          55.619999,
          54,
          54.450001,
          58.419998,
          61.900002,
          62.52,
          62.299999,
          64.43,
          61.740002,
          61.740002,
          61.02,
          61.279999,
          61.549999,
          58.5,
          55.360001,
          53.77,
          54.18,
          52.27,
          49.959999,
          52.299999,
          53.580002,
          57.029999,
          58.189999,
          57.52,
          59.049999,
          55.66,
          55.709999,
          54.91,
          55.759998,
          54.43,
          53.049999,
          53.759998,
          52.200001,
          53.77,
          52.939999,
          52.400002,
          50.099998,
          50,
          49.509998,
          48.07,
          49.625,
          51.02,
          50.200001,
          50.119999,
          50.099998,
          49.505001,
          49.625,
          50.619999,
          53.150002,
          52.18,
          52.220001,
          51.580002,
          53.299999,
          51.5,
          52.330002,
          52.240002,
          51.080002,
          51,
          54.5,
          55.23,
          58.73,
          58.09,
          59.459999,
          61.939999,
          61.73,
          62.310001,
          64.190002,
          64.32,
          64.419998,
          62.459999,
          62.459999,
          64.419998,
          65.599998,
          68.120003,
          69.639999,
          68.989998,
          68.279999,
          68.779999,
          70.900002,
          70.449997,
          69.230003,
          72.599998,
          73.220001,
          73.529999,
          71.75,
          72.18,
          73.040001,
          72.260002,
          73.129997,
          74.400002,
          71.580002,
          72.449997,
          73.739998,
          71.059998,
          70.5,
          70.5,
          70.169998,
          70.790001,
          70.370003,
          68.419998,
          69.519997,
          70.349998,
          72.139999,
          76.889999,
          80.139999,
          76.93,
          76.169998,
          80.330002,
          84.43,
          83.25,
          82.260002,
          84.349998,
          85.120003,
          87.059998,
          84.519997,
          83.959999,
          83,
          82.220001,
          85.800003,
          89.25,
          87.279999,
          87.129997,
          82.019997,
          81.330002,
          94.209999,
          93.57,
          93.339996,
          94.879997,
          91.870003,
          92.099998,
          91.550003,
          90.230003,
          90.230003,
          92.82,
          96.459999,
          98.489998,
          95.360001,
          97.540001,
          95.620003,
          98.610001,
          99.459999,
          98.400002,
          94.57,
          97,
          98.830002,
          104.620003,
          104.620003,
          105.760002,
          107.040001,
          104.959999,
          107.040001,
          106.199997,
          103,
          103.919998,
          104.040001,
          104.800003,
          104,
          93.589996,
          97.050003,
          91.519997,
          92.239998,
          94.019997,
          91.889999,
          89.959999,
          93.160004,
          88.150002,
          87.389999,
          78.830002,
          81.059998,
          77.5,
          82.639999,
          87.790001,
          93.010002,
          95.07,
          98.050003,
          101.5,
          109.959999,
          112.5,
          109.300003,
          111.559998,
          114.599998,
          112.620003,
          116.760002,
          116.5,
          116.379997,
          119.339996,
          119.18,
          115.059998,
          114.82,
          114.739998,
          112.599998,
          112.860001,
          120.160004,
          121.779999,
          122.400002,
          122.599998,
          123,
          128.139999,
          129.919998,
          122.959999,
          119.919998,
          120.279999,
          122.620003,
          120.480003,
          123.279999,
          122.220001,
          118.720001,
          117.5,
          114.360001,
          115.279999,
          117.620003,
          118.959999,
          121.639999,
          128.600006,
          132.5,
          133.539993,
          131.679993,
          124.059998,
          122.519997,
          126.559998,
          131.199997,
          129.240005,
          130.5,
          133.139999,
          135.619995,
          132.839996,
          132.960007,
          129.759995,
          127.059998,
          105.639999,
          99.5,
          69.169998,
          48.119999,
          52.849998,
          49.505001,
          50.91,
          52.619999,
          51.700001,
          50.150002,
          52.709999,
          48.209999,
          49.810001,
          54.509998,
          57.66,
          65.199997,
          63.450001,
          61.27,
          60.18,
          62.02,
          64.709999,
          62.98,
          61.75,
          60.779999,
          69.349998,
          66.970001,
          69.010002,
          66.790001,
          67.75,
          68.599998,
          57.869999,
          60.950001,
          64.800003,
          59.869999,
          62.560001,
          59.279999,
          61.68,
          71.75,
          87.300003,
          89,
          87.730003,
          91.410004,
          88.940002,
          82.75,
          89.779999,
          88.370003,
          88.120003,
          87.970001,
          81.839996,
          82.410004,
          89.540001,
          89.580002,
          90.199997,
          95.230003,
          96.269997,
          97.339996,
          93.139999,
          96.330002,
          99.43,
          97.730003,
          95.949997,
          98.800003,
          95.830002,
          93.18,
          93.559998,
          97.139999,
          105.860001,
          108.839996,
          112.080002,
          109.5,
          104.900002,
          107.220001,
          109.519997,
          103.120003,
          110.860001,
          113.379997,
          113.720001,
          108.199997,
          111.18,
          113.68,
          112.459999,
          111.860001,
          108.720001,
          111.879997,
          111.120003,
          111.260002,
          109.779999,
          107.160004,
          107.519997,
          112.139999,
          108.839996,
          95.730003,
          96.809998,
          99.099998,
          99.769997,
          100.260002,
          110.400002,
          113.220001,
          116.18,
          112.18,
          106.199997,
          108.660004,
          110.040001,
          112.5,
          105.720001,
          96.830002,
          90.239998,
          101.199997,
          104.800003,
          107.120003,
          101.720001,
          101.559998,
          102.300003,
          100.559998,
          102.580002,
          102.639999,
          104,
          102.739998,
          108.040001,
          101.860001,
          93,
          90.339996,
          90.160004,
          88.910004,
          94,
          102.660004,
          99.169998,
          101.879997,
          105.519997,
          106.18,
          101.660004,
          94.239998,
          94.25,
          91.18,
          90.830002,
          86.800003,
          86.519997,
          91.580002,
          96.589996,
          101.32,
          108.480003,
          111.699997,
          111.839996,
          112.860001,
          107.220001,
          107.040001,
          109.32,
          108.879997,
          110.580002
         ],
         "open": [
          41.125,
          44.790001,
          46.439999,
          49.279999,
          47.029999,
          48,
          50.25,
          52.73,
          55.849998,
          58.970001,
          63.59,
          61.490002,
          60.84,
          60.650002,
          60.709999,
          61.950001,
          64.209999,
          61.200001,
          61.099998,
          61,
          64.239998,
          61.330002,
          59.5,
          59.880001,
          60.470001,
          58.299999,
          58.009998,
          61.200001,
          64.5,
          62.759998,
          64.870003,
          66.980003,
          63.07,
          54.900002,
          57.709999,
          55.959999,
          55.82,
          54.400002,
          53.82,
          55.939999,
          57.349998,
          55,
          59.720001,
          62.049999,
          66.059998,
          62.41,
          66.400002,
          67.870003,
          64.669998,
          62.759998,
          63,
          62.23,
          61.150002,
          58.580002,
          56.27,
          57.639999,
          57.82,
          53.57,
          52.650002,
          55.66,
          57.509998,
          61.700001,
          60.48,
          60.290001,
          60.220001,
          56.580002,
          57.110001,
          55.830002,
          57.779999,
          53.599998,
          54.189999,
          54.75,
          54.400002,
          55.900002,
          53.349998,
          52,
          52.040001,
          51.5,
          51.82,
          49.814999,
          52.560001,
          50.560001,
          52.900002,
          50.580002,
          52.220001,
          50,
          50.91,
          53.43,
          54.75,
          52.939999,
          53.459999,
          53.84,
          53.799999,
          52.330002,
          54.139999,
          54.509998,
          52.360001,
          55.380001,
          55.240002,
          60.02,
          58.799999,
          59.700001,
          64.169998,
          62.900002,
          62.68,
          65.059998,
          65.110001,
          65,
          64.540001,
          63.029999,
          64.480003,
          65.599998,
          68.389999,
          70.650002,
          70.25,
          69.699997,
          69.309998,
          71.400002,
          72.25,
          70.5,
          73.5,
          74.410004,
          75.120003,
          74.550003,
          74.019997,
          73.709999,
          75.43,
          75.050003,
          75.279999,
          75.980003,
          72.720001,
          74.290001,
          74.559998,
          71.010002,
          72.220001,
          73.599998,
          71.089996,
          71.32,
          70.559998,
          70.699997,
          70.900002,
          72.389999,
          77.5,
          80.330002,
          79.5,
          77,
          80.639999,
          86.029999,
          86.849998,
          83.360001,
          84.709999,
          85.559998,
          87.089996,
          87.669998,
          85.93,
          84.470001,
          83.029999,
          85.830002,
          90.400002,
          93,
          90.5,
          87.190002,
          84,
          95.529999,
          98.5,
          93.480003,
          98.5,
          96,
          92.93,
          92.879997,
          94.400002,
          90.279999,
          94.290001,
          96.849998,
          98.889999,
          98.699997,
          98.529999,
          98.980003,
          100,
          101.360001,
          103.519997,
          99.949997,
          97.650002,
          99.050003,
          107.120003,
          105.059998,
          108.959999,
          107.959999,
          107.400002,
          107.980003,
          108.199997,
          106.040001,
          104.5,
          106.019997,
          106.480003,
          108.68,
          104.339996,
          99.139999,
          98.339996,
          95.389999,
          96.010002,
          94.900002,
          92.900002,
          94.199997,
          97.269997,
          88.610001,
          88.43,
          81.540001,
          83.830002,
          85.959999,
          87.870003,
          93.260002,
          96.300003,
          101.199997,
          101.900002,
          111.160004,
          113.779999,
          114.300003,
          112,
          118,
          114.019997,
          118.900002,
          118.879997,
          117.779999,
          120.440002,
          122,
          117.019997,
          117.040001,
          120.720001,
          117.779999,
          113.699997,
          121.940002,
          122.839996,
          122.559998,
          123.5,
          124.199997,
          128.580002,
          131.199997,
          130.440002,
          122.720001,
          126,
          124.260002,
          122.199997,
          125.82,
          126.540001,
          121,
          120.199997,
          119.360001,
          117.779999,
          118.279999,
          120.379997,
          123.800003,
          130.380005,
          132.539993,
          136.259995,
          134,
          133.860001,
          126.900002,
          127,
          132.199997,
          133.119995,
          132.679993,
          134.399994,
          136.800003,
          135.020004,
          133.639999,
          136.100006,
          129,
          126.760002,
          110,
          89.300003,
          66.57,
          60.450001,
          67.309998,
          53.549999,
          61.66,
          57.549999,
          52.990002,
          55,
          56.529999,
          50.02,
          54.970001,
          59.18,
          80.5,
          64.75,
          67.879997,
          60.889999,
          67.419998,
          66.529999,
          66,
          63.580002,
          62.330002,
          69.68,
          72,
          69.519997,
          72,
          70.5,
          70.040001,
          68.330002,
          61.549999,
          65.839996,
          67.080002,
          64.360001,
          66.610001,
          62.970001,
          71.800003,
          87.400002,
          89.5,
          89.989998,
          95.620003,
          93.129997,
          85,
          93,
          92.839996,
          90.629997,
          91.190002,
          88.900002,
          84.129997,
          94.019997,
          92.870003,
          90.629997,
          97.75,
          96.870003,
          100.5,
          97.349998,
          98.650002,
          101.519997,
          101.300003,
          103.940002,
          98.910004,
          100.160004,
          99,
          99.599998,
          98.209999,
          107.919998,
          110.099998,
          112.860001,
          111.5,
          110.599998,
          111.940002,
          112.519997,
          108.5,
          111.120003,
          116.800003,
          116.580002,
          114.419998,
          112,
          115.220001,
          114.720001,
          114.620003,
          110.800003,
          116.5,
          116.559998,
          112.839996,
          114.260002,
          109.82,
          111.080002,
          114,
          114.379997,
          109.980003,
          101.160004,
          99.5,
          105.599998,
          101.559998,
          110.839996,
          113.599998,
          118,
          118.279999,
          112.519997,
          112.760002,
          111.879997,
          115,
          116.040001,
          115.459999,
          91.5,
          105,
          105.620003,
          107.120003,
          111.760002,
          102.580002,
          104.18,
          102.5,
          104.980003,
          105.519997,
          105.699997,
          108.379997,
          112.559998,
          109.5,
          100.099998,
          94.900002,
          93.220001,
          96.190002,
          94.699997,
          104.519997,
          105.5,
          104.360001,
          106.559998,
          108.800003,
          105.739998,
          100.559998,
          96.599998,
          96.900002,
          91.489998,
          91.099998,
          87.900002,
          91.800003,
          96.690002,
          101.980003,
          109.980003,
          113.760002,
          112.959999,
          114,
          110.400002,
          111.120003,
          111.300003,
          110.239998,
          112.940002
         ],
         "type": "candlestick",
         "x": [
          "2015-01-05T00:00:00",
          "2015-01-12T00:00:00",
          "2015-01-19T00:00:00",
          "2015-01-26T00:00:00",
          "2015-02-02T00:00:00",
          "2015-02-09T00:00:00",
          "2015-02-16T00:00:00",
          "2015-02-23T00:00:00",
          "2015-03-02T00:00:00",
          "2015-03-09T00:00:00",
          "2015-03-16T00:00:00",
          "2015-03-23T00:00:00",
          "2015-03-30T00:00:00",
          "2015-04-06T00:00:00",
          "2015-04-13T00:00:00",
          "2015-04-20T00:00:00",
          "2015-04-27T00:00:00",
          "2015-05-04T00:00:00",
          "2015-05-11T00:00:00",
          "2015-05-18T00:00:00",
          "2015-05-25T00:00:00",
          "2015-06-01T00:00:00",
          "2015-06-08T00:00:00",
          "2015-06-15T00:00:00",
          "2015-06-22T00:00:00",
          "2015-06-29T00:00:00",
          "2015-07-06T00:00:00",
          "2015-07-13T00:00:00",
          "2015-07-20T00:00:00",
          "2015-07-27T00:00:00",
          "2015-08-03T00:00:00",
          "2015-08-10T00:00:00",
          "2015-08-17T00:00:00",
          "2015-08-24T00:00:00",
          "2015-08-31T00:00:00",
          "2015-09-07T00:00:00",
          "2015-09-14T00:00:00",
          "2015-09-21T00:00:00",
          "2015-09-28T00:00:00",
          "2015-10-05T00:00:00",
          "2015-10-12T00:00:00",
          "2015-10-19T00:00:00",
          "2015-10-26T00:00:00",
          "2015-11-02T00:00:00",
          "2015-11-09T00:00:00",
          "2015-11-16T00:00:00",
          "2015-11-23T00:00:00",
          "2015-11-30T00:00:00",
          "2015-12-07T00:00:00",
          "2015-12-14T00:00:00",
          "2015-12-21T00:00:00",
          "2015-12-28T00:00:00",
          "2016-01-04T00:00:00",
          "2016-01-11T00:00:00",
          "2016-01-18T00:00:00",
          "2016-01-25T00:00:00",
          "2016-02-01T00:00:00",
          "2016-02-08T00:00:00",
          "2016-02-15T00:00:00",
          "2016-02-22T00:00:00",
          "2016-02-29T00:00:00",
          "2016-03-07T00:00:00",
          "2016-03-14T00:00:00",
          "2016-03-21T00:00:00",
          "2016-03-28T00:00:00",
          "2016-04-04T00:00:00",
          "2016-04-11T00:00:00",
          "2016-04-18T00:00:00",
          "2016-04-25T00:00:00",
          "2016-05-02T00:00:00",
          "2016-05-09T00:00:00",
          "2016-05-16T00:00:00",
          "2016-05-23T00:00:00",
          "2016-05-30T00:00:00",
          "2016-06-06T00:00:00",
          "2016-06-13T00:00:00",
          "2016-06-20T00:00:00",
          "2016-06-27T00:00:00",
          "2016-07-04T00:00:00",
          "2016-07-11T00:00:00",
          "2016-07-18T00:00:00",
          "2016-07-25T00:00:00",
          "2016-08-01T00:00:00",
          "2016-08-08T00:00:00",
          "2016-08-15T00:00:00",
          "2016-08-22T00:00:00",
          "2016-08-29T00:00:00",
          "2016-09-05T00:00:00",
          "2016-09-12T00:00:00",
          "2016-09-19T00:00:00",
          "2016-09-26T00:00:00",
          "2016-10-03T00:00:00",
          "2016-10-10T00:00:00",
          "2016-10-17T00:00:00",
          "2016-10-24T00:00:00",
          "2016-10-31T00:00:00",
          "2016-11-07T00:00:00",
          "2016-11-14T00:00:00",
          "2016-11-21T00:00:00",
          "2016-11-28T00:00:00",
          "2016-12-05T00:00:00",
          "2016-12-12T00:00:00",
          "2016-12-19T00:00:00",
          "2016-12-26T00:00:00",
          "2017-01-02T00:00:00",
          "2017-01-09T00:00:00",
          "2017-01-16T00:00:00",
          "2017-01-23T00:00:00",
          "2017-01-30T00:00:00",
          "2017-02-06T00:00:00",
          "2017-02-13T00:00:00",
          "2017-02-20T00:00:00",
          "2017-02-27T00:00:00",
          "2017-03-06T00:00:00",
          "2017-03-13T00:00:00",
          "2017-03-20T00:00:00",
          "2017-03-27T00:00:00",
          "2017-04-03T00:00:00",
          "2017-04-10T00:00:00",
          "2017-04-17T00:00:00",
          "2017-04-24T00:00:00",
          "2017-05-01T00:00:00",
          "2017-05-08T00:00:00",
          "2017-05-15T00:00:00",
          "2017-05-22T00:00:00",
          "2017-05-29T00:00:00",
          "2017-06-05T00:00:00",
          "2017-06-12T00:00:00",
          "2017-06-19T00:00:00",
          "2017-06-26T00:00:00",
          "2017-07-03T00:00:00",
          "2017-07-10T00:00:00",
          "2017-07-17T00:00:00",
          "2017-07-24T00:00:00",
          "2017-07-31T00:00:00",
          "2017-08-07T00:00:00",
          "2017-08-14T00:00:00",
          "2017-08-21T00:00:00",
          "2017-08-28T00:00:00",
          "2017-09-04T00:00:00",
          "2017-09-11T00:00:00",
          "2017-09-18T00:00:00",
          "2017-09-25T00:00:00",
          "2017-10-02T00:00:00",
          "2017-10-09T00:00:00",
          "2017-10-16T00:00:00",
          "2017-10-23T00:00:00",
          "2017-10-30T00:00:00",
          "2017-11-06T00:00:00",
          "2017-11-13T00:00:00",
          "2017-11-20T00:00:00",
          "2017-11-27T00:00:00",
          "2017-12-04T00:00:00",
          "2017-12-11T00:00:00",
          "2017-12-18T00:00:00",
          "2017-12-25T00:00:00",
          "2018-01-01T00:00:00",
          "2018-01-08T00:00:00",
          "2018-01-15T00:00:00",
          "2018-01-22T00:00:00",
          "2018-01-29T00:00:00",
          "2018-02-05T00:00:00",
          "2018-02-12T00:00:00",
          "2018-02-19T00:00:00",
          "2018-02-26T00:00:00",
          "2018-03-05T00:00:00",
          "2018-03-12T00:00:00",
          "2018-03-19T00:00:00",
          "2018-03-26T00:00:00",
          "2018-04-02T00:00:00",
          "2018-04-09T00:00:00",
          "2018-04-16T00:00:00",
          "2018-04-23T00:00:00",
          "2018-04-30T00:00:00",
          "2018-05-07T00:00:00",
          "2018-05-14T00:00:00",
          "2018-05-21T00:00:00",
          "2018-05-28T00:00:00",
          "2018-06-04T00:00:00",
          "2018-06-11T00:00:00",
          "2018-06-18T00:00:00",
          "2018-06-25T00:00:00",
          "2018-07-02T00:00:00",
          "2018-07-09T00:00:00",
          "2018-07-16T00:00:00",
          "2018-07-23T00:00:00",
          "2018-07-30T00:00:00",
          "2018-08-06T00:00:00",
          "2018-08-13T00:00:00",
          "2018-08-20T00:00:00",
          "2018-08-27T00:00:00",
          "2018-09-03T00:00:00",
          "2018-09-10T00:00:00",
          "2018-09-17T00:00:00",
          "2018-09-24T00:00:00",
          "2018-10-01T00:00:00",
          "2018-10-08T00:00:00",
          "2018-10-15T00:00:00",
          "2018-10-22T00:00:00",
          "2018-10-29T00:00:00",
          "2018-11-05T00:00:00",
          "2018-11-12T00:00:00",
          "2018-11-19T00:00:00",
          "2018-11-26T00:00:00",
          "2018-12-03T00:00:00",
          "2018-12-10T00:00:00",
          "2018-12-17T00:00:00",
          "2018-12-24T00:00:00",
          "2018-12-31T00:00:00",
          "2019-01-07T00:00:00",
          "2019-01-14T00:00:00",
          "2019-01-21T00:00:00",
          "2019-01-28T00:00:00",
          "2019-02-04T00:00:00",
          "2019-02-11T00:00:00",
          "2019-02-18T00:00:00",
          "2019-02-25T00:00:00",
          "2019-03-04T00:00:00",
          "2019-03-11T00:00:00",
          "2019-03-18T00:00:00",
          "2019-03-25T00:00:00",
          "2019-04-01T00:00:00",
          "2019-04-08T00:00:00",
          "2019-04-15T00:00:00",
          "2019-04-22T00:00:00",
          "2019-04-29T00:00:00",
          "2019-05-06T00:00:00",
          "2019-05-13T00:00:00",
          "2019-05-20T00:00:00",
          "2019-05-27T00:00:00",
          "2019-06-03T00:00:00",
          "2019-06-10T00:00:00",
          "2019-06-17T00:00:00",
          "2019-06-24T00:00:00",
          "2019-07-01T00:00:00",
          "2019-07-08T00:00:00",
          "2019-07-15T00:00:00",
          "2019-07-22T00:00:00",
          "2019-07-29T00:00:00",
          "2019-08-05T00:00:00",
          "2019-08-12T00:00:00",
          "2019-08-19T00:00:00",
          "2019-08-26T00:00:00",
          "2019-09-02T00:00:00",
          "2019-09-09T00:00:00",
          "2019-09-16T00:00:00",
          "2019-09-23T00:00:00",
          "2019-09-30T00:00:00",
          "2019-10-07T00:00:00",
          "2019-10-14T00:00:00",
          "2019-10-21T00:00:00",
          "2019-10-28T00:00:00",
          "2019-11-04T00:00:00",
          "2019-11-11T00:00:00",
          "2019-11-18T00:00:00",
          "2019-11-25T00:00:00",
          "2019-12-02T00:00:00",
          "2019-12-09T00:00:00",
          "2019-12-16T00:00:00",
          "2019-12-23T00:00:00",
          "2019-12-30T00:00:00",
          "2020-01-06T00:00:00",
          "2020-01-13T00:00:00",
          "2020-01-20T00:00:00",
          "2020-01-27T00:00:00",
          "2020-02-03T00:00:00",
          "2020-02-10T00:00:00",
          "2020-02-17T00:00:00",
          "2020-02-24T00:00:00",
          "2020-03-02T00:00:00",
          "2020-03-09T00:00:00",
          "2020-03-16T00:00:00",
          "2020-03-23T00:00:00",
          "2020-03-30T00:00:00",
          "2020-04-06T00:00:00",
          "2020-04-13T00:00:00",
          "2020-04-20T00:00:00",
          "2020-04-27T00:00:00",
          "2020-05-04T00:00:00",
          "2020-05-11T00:00:00",
          "2020-05-18T00:00:00",
          "2020-05-25T00:00:00",
          "2020-06-01T00:00:00",
          "2020-06-08T00:00:00",
          "2020-06-15T00:00:00",
          "2020-06-22T00:00:00",
          "2020-06-29T00:00:00",
          "2020-07-06T00:00:00",
          "2020-07-13T00:00:00",
          "2020-07-20T00:00:00",
          "2020-07-27T00:00:00",
          "2020-08-03T00:00:00",
          "2020-08-10T00:00:00",
          "2020-08-17T00:00:00",
          "2020-08-24T00:00:00",
          "2020-08-31T00:00:00",
          "2020-09-07T00:00:00",
          "2020-09-14T00:00:00",
          "2020-09-21T00:00:00",
          "2020-09-28T00:00:00",
          "2020-10-05T00:00:00",
          "2020-10-12T00:00:00",
          "2020-10-19T00:00:00",
          "2020-10-26T00:00:00",
          "2020-11-02T00:00:00",
          "2020-11-09T00:00:00",
          "2020-11-16T00:00:00",
          "2020-11-23T00:00:00",
          "2020-11-30T00:00:00",
          "2020-12-07T00:00:00",
          "2020-12-14T00:00:00",
          "2020-12-21T00:00:00",
          "2020-12-28T00:00:00",
          "2021-01-04T00:00:00",
          "2021-01-11T00:00:00",
          "2021-01-18T00:00:00",
          "2021-01-25T00:00:00",
          "2021-02-01T00:00:00",
          "2021-02-08T00:00:00",
          "2021-02-15T00:00:00",
          "2021-02-22T00:00:00",
          "2021-03-01T00:00:00",
          "2021-03-08T00:00:00",
          "2021-03-15T00:00:00",
          "2021-03-22T00:00:00",
          "2021-03-29T00:00:00",
          "2021-04-05T00:00:00",
          "2021-04-12T00:00:00",
          "2021-04-19T00:00:00",
          "2021-04-26T00:00:00",
          "2021-05-03T00:00:00",
          "2021-05-10T00:00:00",
          "2021-05-17T00:00:00",
          "2021-05-24T00:00:00",
          "2021-05-31T00:00:00",
          "2021-06-07T00:00:00",
          "2021-06-14T00:00:00",
          "2021-06-21T00:00:00",
          "2021-06-28T00:00:00",
          "2021-07-05T00:00:00",
          "2021-07-12T00:00:00",
          "2021-07-19T00:00:00",
          "2021-07-26T00:00:00",
          "2021-08-02T00:00:00",
          "2021-08-09T00:00:00",
          "2021-08-16T00:00:00",
          "2021-08-23T00:00:00",
          "2021-08-30T00:00:00",
          "2021-09-06T00:00:00",
          "2021-09-13T00:00:00",
          "2021-09-20T00:00:00",
          "2021-09-27T00:00:00",
          "2021-10-04T00:00:00",
          "2021-10-11T00:00:00",
          "2021-10-18T00:00:00",
          "2021-10-25T00:00:00",
          "2021-11-01T00:00:00",
          "2021-11-08T00:00:00",
          "2021-11-15T00:00:00",
          "2021-11-22T00:00:00",
          "2021-11-29T00:00:00",
          "2021-12-06T00:00:00",
          "2021-12-13T00:00:00",
          "2021-12-20T00:00:00",
          "2021-12-27T00:00:00",
          "2022-01-03T00:00:00",
          "2022-01-10T00:00:00",
          "2022-01-17T00:00:00",
          "2022-01-24T00:00:00",
          "2022-01-31T00:00:00",
          "2022-02-07T00:00:00",
          "2022-02-14T00:00:00",
          "2022-02-21T00:00:00",
          "2022-02-28T00:00:00",
          "2022-03-07T00:00:00",
          "2022-03-14T00:00:00",
          "2022-03-21T00:00:00",
          "2022-03-28T00:00:00",
          "2022-04-04T00:00:00",
          "2022-04-11T00:00:00",
          "2022-04-18T00:00:00",
          "2022-04-25T00:00:00",
          "2022-05-02T00:00:00",
          "2022-05-09T00:00:00",
          "2022-05-16T00:00:00",
          "2022-05-23T00:00:00",
          "2022-05-30T00:00:00",
          "2022-06-06T00:00:00",
          "2022-06-13T00:00:00",
          "2022-06-20T00:00:00",
          "2022-06-27T00:00:00",
          "2022-07-04T00:00:00",
          "2022-07-11T00:00:00",
          "2022-07-18T00:00:00",
          "2022-07-25T00:00:00",
          "2022-08-01T00:00:00",
          "2022-08-08T00:00:00",
          "2022-08-15T00:00:00",
          "2022-08-22T00:00:00",
          "2022-08-29T00:00:00",
          "2022-09-05T00:00:00",
          "2022-09-12T00:00:00",
          "2022-09-19T00:00:00",
          "2022-09-26T00:00:00",
          "2022-10-03T00:00:00",
          "2022-10-10T00:00:00",
          "2022-10-17T00:00:00",
          "2022-10-24T00:00:00",
          "2022-10-31T00:00:00",
          "2022-11-07T00:00:00",
          "2022-11-14T00:00:00",
          "2022-11-21T00:00:00",
          "2022-11-28T00:00:00",
          "2022-12-05T00:00:00",
          "2022-12-12T00:00:00",
          "2022-12-19T00:00:00",
          "2022-12-26T00:00:00"
         ]
        }
       ],
       "layout": {
        "template": {
         "data": {
          "bar": [
           {
            "error_x": {
             "color": "#2a3f5f"
            },
            "error_y": {
             "color": "#2a3f5f"
            },
            "marker": {
             "line": {
              "color": "#E5ECF6",
              "width": 0.5
             },
             "pattern": {
              "fillmode": "overlay",
              "size": 10,
              "solidity": 0.2
             }
            },
            "type": "bar"
           }
          ],
          "barpolar": [
           {
            "marker": {
             "line": {
              "color": "#E5ECF6",
              "width": 0.5
             },
             "pattern": {
              "fillmode": "overlay",
              "size": 10,
              "solidity": 0.2
             }
            },
            "type": "barpolar"
           }
          ],
          "carpet": [
           {
            "aaxis": {
             "endlinecolor": "#2a3f5f",
             "gridcolor": "white",
             "linecolor": "white",
             "minorgridcolor": "white",
             "startlinecolor": "#2a3f5f"
            },
            "baxis": {
             "endlinecolor": "#2a3f5f",
             "gridcolor": "white",
             "linecolor": "white",
             "minorgridcolor": "white",
             "startlinecolor": "#2a3f5f"
            },
            "type": "carpet"
           }
          ],
          "choropleth": [
           {
            "colorbar": {
             "outlinewidth": 0,
             "ticks": ""
            },
            "type": "choropleth"
           }
          ],
          "contour": [
           {
            "colorbar": {
             "outlinewidth": 0,
             "ticks": ""
            },
            "colorscale": [
             [
              0,
              "#0d0887"
             ],
             [
              0.1111111111111111,
              "#46039f"
             ],
             [
              0.2222222222222222,
              "#7201a8"
             ],
             [
              0.3333333333333333,
              "#9c179e"
             ],
             [
              0.4444444444444444,
              "#bd3786"
             ],
             [
              0.5555555555555556,
              "#d8576b"
             ],
             [
              0.6666666666666666,
              "#ed7953"
             ],
             [
              0.7777777777777778,
              "#fb9f3a"
             ],
             [
              0.8888888888888888,
              "#fdca26"
             ],
             [
              1,
              "#f0f921"
             ]
            ],
            "type": "contour"
           }
          ],
          "contourcarpet": [
           {
            "colorbar": {
             "outlinewidth": 0,
             "ticks": ""
            },
            "type": "contourcarpet"
           }
          ],
          "heatmap": [
           {
            "colorbar": {
             "outlinewidth": 0,
             "ticks": ""
            },
            "colorscale": [
             [
              0,
              "#0d0887"
             ],
             [
              0.1111111111111111,
              "#46039f"
             ],
             [
              0.2222222222222222,
              "#7201a8"
             ],
             [
              0.3333333333333333,
              "#9c179e"
             ],
             [
              0.4444444444444444,
              "#bd3786"
             ],
             [
              0.5555555555555556,
              "#d8576b"
             ],
             [
              0.6666666666666666,
              "#ed7953"
             ],
             [
              0.7777777777777778,
              "#fb9f3a"
             ],
             [
              0.8888888888888888,
              "#fdca26"
             ],
             [
              1,
              "#f0f921"
             ]
            ],
            "type": "heatmap"
           }
          ],
          "heatmapgl": [
           {
            "colorbar": {
             "outlinewidth": 0,
             "ticks": ""
            },
            "colorscale": [
             [
              0,
              "#0d0887"
             ],
             [
              0.1111111111111111,
              "#46039f"
             ],
             [
              0.2222222222222222,
              "#7201a8"
             ],
             [
              0.3333333333333333,
              "#9c179e"
             ],
             [
              0.4444444444444444,
              "#bd3786"
             ],
             [
              0.5555555555555556,
              "#d8576b"
             ],
             [
              0.6666666666666666,
              "#ed7953"
             ],
             [
              0.7777777777777778,
              "#fb9f3a"
             ],
             [
              0.8888888888888888,
              "#fdca26"
             ],
             [
              1,
              "#f0f921"
             ]
            ],
            "type": "heatmapgl"
           }
          ],
          "histogram": [
           {
            "marker": {
             "pattern": {
              "fillmode": "overlay",
              "size": 10,
              "solidity": 0.2
             }
            },
            "type": "histogram"
           }
          ],
          "histogram2d": [
           {
            "colorbar": {
             "outlinewidth": 0,
             "ticks": ""
            },
            "colorscale": [
             [
              0,
              "#0d0887"
             ],
             [
              0.1111111111111111,
              "#46039f"
             ],
             [
              0.2222222222222222,
              "#7201a8"
             ],
             [
              0.3333333333333333,
              "#9c179e"
             ],
             [
              0.4444444444444444,
              "#bd3786"
             ],
             [
              0.5555555555555556,
              "#d8576b"
             ],
             [
              0.6666666666666666,
              "#ed7953"
             ],
             [
              0.7777777777777778,
              "#fb9f3a"
             ],
             [
              0.8888888888888888,
              "#fdca26"
             ],
             [
              1,
              "#f0f921"
             ]
            ],
            "type": "histogram2d"
           }
          ],
          "histogram2dcontour": [
           {
            "colorbar": {
             "outlinewidth": 0,
             "ticks": ""
            },
            "colorscale": [
             [
              0,
              "#0d0887"
             ],
             [
              0.1111111111111111,
              "#46039f"
             ],
             [
              0.2222222222222222,
              "#7201a8"
             ],
             [
              0.3333333333333333,
              "#9c179e"
             ],
             [
              0.4444444444444444,
              "#bd3786"
             ],
             [
              0.5555555555555556,
              "#d8576b"
             ],
             [
              0.6666666666666666,
              "#ed7953"
             ],
             [
              0.7777777777777778,
              "#fb9f3a"
             ],
             [
              0.8888888888888888,
              "#fdca26"
             ],
             [
              1,
              "#f0f921"
             ]
            ],
            "type": "histogram2dcontour"
           }
          ],
          "mesh3d": [
           {
            "colorbar": {
             "outlinewidth": 0,
             "ticks": ""
            },
            "type": "mesh3d"
           }
          ],
          "parcoords": [
           {
            "line": {
             "colorbar": {
              "outlinewidth": 0,
              "ticks": ""
             }
            },
            "type": "parcoords"
           }
          ],
          "pie": [
           {
            "automargin": true,
            "type": "pie"
           }
          ],
          "scatter": [
           {
            "fillpattern": {
             "fillmode": "overlay",
             "size": 10,
             "solidity": 0.2
            },
            "type": "scatter"
           }
          ],
          "scatter3d": [
           {
            "line": {
             "colorbar": {
              "outlinewidth": 0,
              "ticks": ""
             }
            },
            "marker": {
             "colorbar": {
              "outlinewidth": 0,
              "ticks": ""
             }
            },
            "type": "scatter3d"
           }
          ],
          "scattercarpet": [
           {
            "marker": {
             "colorbar": {
              "outlinewidth": 0,
              "ticks": ""
             }
            },
            "type": "scattercarpet"
           }
          ],
          "scattergeo": [
           {
            "marker": {
             "colorbar": {
              "outlinewidth": 0,
              "ticks": ""
             }
            },
            "type": "scattergeo"
           }
          ],
          "scattergl": [
           {
            "marker": {
             "colorbar": {
              "outlinewidth": 0,
              "ticks": ""
             }
            },
            "type": "scattergl"
           }
          ],
          "scattermapbox": [
           {
            "marker": {
             "colorbar": {
              "outlinewidth": 0,
              "ticks": ""
             }
            },
            "type": "scattermapbox"
           }
          ],
          "scatterpolar": [
           {
            "marker": {
             "colorbar": {
              "outlinewidth": 0,
              "ticks": ""
             }
            },
            "type": "scatterpolar"
           }
          ],
          "scatterpolargl": [
           {
            "marker": {
             "colorbar": {
              "outlinewidth": 0,
              "ticks": ""
             }
            },
            "type": "scatterpolargl"
           }
          ],
          "scatterternary": [
           {
            "marker": {
             "colorbar": {
              "outlinewidth": 0,
              "ticks": ""
             }
            },
            "type": "scatterternary"
           }
          ],
          "surface": [
           {
            "colorbar": {
             "outlinewidth": 0,
             "ticks": ""
            },
            "colorscale": [
             [
              0,
              "#0d0887"
             ],
             [
              0.1111111111111111,
              "#46039f"
             ],
             [
              0.2222222222222222,
              "#7201a8"
             ],
             [
              0.3333333333333333,
              "#9c179e"
             ],
             [
              0.4444444444444444,
              "#bd3786"
             ],
             [
              0.5555555555555556,
              "#d8576b"
             ],
             [
              0.6666666666666666,
              "#ed7953"
             ],
             [
              0.7777777777777778,
              "#fb9f3a"
             ],
             [
              0.8888888888888888,
              "#fdca26"
             ],
             [
              1,
              "#f0f921"
             ]
            ],
            "type": "surface"
           }
          ],
          "table": [
           {
            "cells": {
             "fill": {
              "color": "#EBF0F8"
             },
             "line": {
              "color": "white"
             }
            },
            "header": {
             "fill": {
              "color": "#C8D4E3"
             },
             "line": {
              "color": "white"
             }
            },
            "type": "table"
           }
          ]
         },
         "layout": {
          "annotationdefaults": {
           "arrowcolor": "#2a3f5f",
           "arrowhead": 0,
           "arrowwidth": 1
          },
          "autotypenumbers": "strict",
          "coloraxis": {
           "colorbar": {
            "outlinewidth": 0,
            "ticks": ""
           }
          },
          "colorscale": {
           "diverging": [
            [
             0,
             "#8e0152"
            ],
            [
             0.1,
             "#c51b7d"
            ],
            [
             0.2,
             "#de77ae"
            ],
            [
             0.3,
             "#f1b6da"
            ],
            [
             0.4,
             "#fde0ef"
            ],
            [
             0.5,
             "#f7f7f7"
            ],
            [
             0.6,
             "#e6f5d0"
            ],
            [
             0.7,
             "#b8e186"
            ],
            [
             0.8,
             "#7fbc41"
            ],
            [
             0.9,
             "#4d9221"
            ],
            [
             1,
             "#276419"
            ]
           ],
           "sequential": [
            [
             0,
             "#0d0887"
            ],
            [
             0.1111111111111111,
             "#46039f"
            ],
            [
             0.2222222222222222,
             "#7201a8"
            ],
            [
             0.3333333333333333,
             "#9c179e"
            ],
            [
             0.4444444444444444,
             "#bd3786"
            ],
            [
             0.5555555555555556,
             "#d8576b"
            ],
            [
             0.6666666666666666,
             "#ed7953"
            ],
            [
             0.7777777777777778,
             "#fb9f3a"
            ],
            [
             0.8888888888888888,
             "#fdca26"
            ],
            [
             1,
             "#f0f921"
            ]
           ],
           "sequentialminus": [
            [
             0,
             "#0d0887"
            ],
            [
             0.1111111111111111,
             "#46039f"
            ],
            [
             0.2222222222222222,
             "#7201a8"
            ],
            [
             0.3333333333333333,
             "#9c179e"
            ],
            [
             0.4444444444444444,
             "#bd3786"
            ],
            [
             0.5555555555555556,
             "#d8576b"
            ],
            [
             0.6666666666666666,
             "#ed7953"
            ],
            [
             0.7777777777777778,
             "#fb9f3a"
            ],
            [
             0.8888888888888888,
             "#fdca26"
            ],
            [
             1,
             "#f0f921"
            ]
           ]
          },
          "colorway": [
           "#636efa",
           "#EF553B",
           "#00cc96",
           "#ab63fa",
           "#FFA15A",
           "#19d3f3",
           "#FF6692",
           "#B6E880",
           "#FF97FF",
           "#FECB52"
          ],
          "font": {
           "color": "#2a3f5f"
          },
          "geo": {
           "bgcolor": "white",
           "lakecolor": "white",
           "landcolor": "#E5ECF6",
           "showlakes": true,
           "showland": true,
           "subunitcolor": "white"
          },
          "hoverlabel": {
           "align": "left"
          },
          "hovermode": "closest",
          "mapbox": {
           "style": "light"
          },
          "paper_bgcolor": "white",
          "plot_bgcolor": "#E5ECF6",
          "polar": {
           "angularaxis": {
            "gridcolor": "white",
            "linecolor": "white",
            "ticks": ""
           },
           "bgcolor": "#E5ECF6",
           "radialaxis": {
            "gridcolor": "white",
            "linecolor": "white",
            "ticks": ""
           }
          },
          "scene": {
           "xaxis": {
            "backgroundcolor": "#E5ECF6",
            "gridcolor": "white",
            "gridwidth": 2,
            "linecolor": "white",
            "showbackground": true,
            "ticks": "",
            "zerolinecolor": "white"
           },
           "yaxis": {
            "backgroundcolor": "#E5ECF6",
            "gridcolor": "white",
            "gridwidth": 2,
            "linecolor": "white",
            "showbackground": true,
            "ticks": "",
            "zerolinecolor": "white"
           },
           "zaxis": {
            "backgroundcolor": "#E5ECF6",
            "gridcolor": "white",
            "gridwidth": 2,
            "linecolor": "white",
            "showbackground": true,
            "ticks": "",
            "zerolinecolor": "white"
           }
          },
          "shapedefaults": {
           "line": {
            "color": "#2a3f5f"
           }
          },
          "ternary": {
           "aaxis": {
            "gridcolor": "white",
            "linecolor": "white",
            "ticks": ""
           },
           "baxis": {
            "gridcolor": "white",
            "linecolor": "white",
            "ticks": ""
           },
           "bgcolor": "#E5ECF6",
           "caxis": {
            "gridcolor": "white",
            "linecolor": "white",
            "ticks": ""
           }
          },
          "title": {
           "x": 0.05
          },
          "xaxis": {
           "automargin": true,
           "gridcolor": "white",
           "linecolor": "white",
           "ticks": "",
           "title": {
            "standoff": 15
           },
           "zerolinecolor": "white",
           "zerolinewidth": 2
          },
          "yaxis": {
           "automargin": true,
           "gridcolor": "white",
           "linecolor": "white",
           "ticks": "",
           "title": {
            "standoff": 15
           },
           "zerolinecolor": "white",
           "zerolinewidth": 2
          }
         }
        }
       }
      },
      "text/html": [
       "<div>                            <div id=\"eabfa4a4-561f-445f-adaf-99394c15a5ca\" class=\"plotly-graph-div\" style=\"height:525px; width:100%;\"></div>            <script type=\"text/javascript\">                require([\"plotly\"], function(Plotly) {                    window.PLOTLYENV=window.PLOTLYENV || {};                                    if (document.getElementById(\"eabfa4a4-561f-445f-adaf-99394c15a5ca\")) {                    Plotly.newPlot(                        \"eabfa4a4-561f-445f-adaf-99394c15a5ca\",                        [{\"close\":[44.549999,46.395,49.279999,47.200001,48.345001,49.75,52.459999,55.330002,59.419998,63.560001,61.400002,60.41,60.759998,61.91,62.18,65.139999,62.0,63.400002,60.860001,63.73,62.0,59.66,60.439999,58.939999,61.509998,59.209999,60.400002,64.650002,63.060001,64.599998,66.5,62.400002,57.389999,58.279999,55.32,55.57,54.419998,54.16,54.68,57.610001,55.529999,60.169998,63.360001,66.099998,63.529999,66.419998,67.949997,64.010002,62.279999,63.259998,62.150002,62.580002,58.759998,56.150002,56.950001,57.82,54.060001,51.310001,55.25,57.509998,62.099998,60.130001,60.599998,59.77,56.98,57.509998,56.580002,58.169998,54.610001,54.029999,55.139999,54.41,56.02,53.349998,52.66,50.830002,52.110001,51.48,49.029999,52.610001,51.400002,52.630001,51.0,52.029999,49.860001,51.040001,53.189999,55.630001,52.580002,53.810001,53.84,53.830002,52.599998,54.259998,55.0,51.919998,54.759998,55.240002,60.310001,58.990002,59.580002,64.18,62.900002,62.84,65.139999,65.639999,65.339996,64.669998,63.060001,64.389999,65.400002,68.349998,71.169998,70.059998,70.010002,70.019997,71.330002,72.5,71.330002,71.57,74.230003,75.879997,74.459999,73.760002,73.900002,75.599998,75.410004,74.93,75.699997,72.0,74.099998,74.559998,71.370003,72.379997,73.32,70.75,71.5,70.860001,71.300003,70.5,72.0,77.339996,80.410004,81.269997,77.199997,80.720001,86.559998,87.169998,83.720001,84.879997,85.800003,85.309998,87.769997,85.25,84.550003,83.0,85.599998,90.400002,92.790001,89.559998,87.970001,83.540001,95.529999,98.300003,93.949997,98.330002,96.0,92.919998,93.800003,94.400002,91.5,94.169998,96.93,98.690002,99.449997,97.839996,98.209999,99.389999,100.900002,103.599998,100.639999,100.260002,98.5,107.400002,105.760002,109.199997,107.760002,107.519997,107.720001,107.5,106.260002,104.839996,106.199997,106.800003,108.18,104.0,100.260002,97.949997,96.150002,95.610001,94.68,92.889999,93.410004,94.620003,89.07,88.669998,83.099998,83.760002,85.120003,88.379997,93.660004,96.510002,101.120003,99.940002,110.980003,113.699997,113.900002,111.519997,117.68,114.599998,117.900002,118.68,118.599998,120.239998,121.860001,119.559998,117.5,121.0,116.540001,114.860001,120.919998,122.419998,122.779999,124.68,124.580002,127.68,131.5,131.0,123.339996,125.120003,123.019997,122.620003,125.339996,126.599998,125.5,120.099998,119.0,117.779999,118.879997,120.400002,123.519997,129.979996,132.960007,136.399994,133.699997,133.399994,127.040001,125.900002,131.880005,133.279999,134.039993,134.419998,136.779999,139.0,133.240005,136.779999,129.860001,130.839996,108.099998,99.5,74.330002,63.779999,68.169998,49.505001,61.0,56.799999,52.34,57.880001,56.07,49.310001,54.040001,56.700001,80.980003,66.949997,68.860001,61.880001,65.629997,65.449997,65.900002,63.93,62.009998,69.300003,72.110001,69.080002,71.440002,69.779999,68.82,68.599998,60.02,64.620003,66.779999,64.339996,68.029999,62.59,70.0,85.559998,88.639999,90.0,96.239998,92.190002,89.0,92.040001,89.779999,90.099998,92.550003,88.830002,83.199997,93.419998,92.209999,91.769997,95.910004,95.419998,100.0,97.339996,97.68,100.419998,101.099998,103.68,98.459999,99.940002,98.370003,99.57,97.910004,108.0,109.919998,112.360001,112.720001,110.32,112.220001,112.760002,110.639999,111.5,115.699997,116.900002,115.440002,110.480003,115.019997,114.480003,114.360001,113.040001,115.400002,116.580002,113.220001,114.900002,109.779999,110.599998,113.900002,112.139999,109.400002,99.360001,98.550003,105.580002,104.139999,111.68,112.360001,117.699997,117.339996,113.400002,111.379997,110.32,118.5,115.0,115.919998,97.099998,103.559998,106.139999,107.540001,111.019997,103.400002,106.120003,104.660004,105.540001,107.5,106.360001,106.919998,111.860001,108.68,102.0,94.120003,92.5,95.239998,96.040001,103.720001,105.580002,104.879997,104.779999,108.419998,106.239998,101.919998,98.959999,96.0,91.739998,91.980003,88.889999,92.330002,96.589996,100.919998,110.0,114.0,113.0,114.639999,113.82,110.980003,111.639999,109.980003,111.739998,111.019997],\"high\":[45.689999,46.599998,49.98,51.200001,48.540001,50.060001,52.470001,55.75,59.5,63.560001,64.0,61.599998,61.650002,61.91,64.580002,66.099998,65.75,63.549999,62.459999,64.139999,65.550003,62.869999,62.310001,60.700001,63.080002,61.209999,60.639999,65.419998,65.410004,65.57,67.879997,67.839996,63.889999,58.490002,58.209999,58.25,56.599998,55.360001,55.290001,58.060001,57.360001,61.0,64.5,66.57,66.809998,66.650002,68.410004,68.5,66.599998,67.010002,63.59,63.540001,62.349998,60.5,57.919998,57.82,58.41,53.75,56.349998,58.599998,62.419998,63.450001,61.049999,62.110001,60.48,58.029999,57.82,58.369999,59.330002,54.68,56.25,55.299999,56.459999,56.48,54.16,52.43,56.32,52.540001,52.009998,53.959999,53.32,54.700001,53.419998,52.189999,52.669998,51.43,53.32,56.040001,55.060001,54.400002,54.099998,55.389999,54.360001,54.75,55.900002,54.82,56.369999,56.93,60.549999,60.77,60.599998,64.980003,64.290001,63.049999,65.389999,66.050003,65.940002,66.32,64.709999,64.519997,66.839996,69.75,71.849998,71.470001,70.900002,71.010002,72.120003,72.599998,72.349998,72.360001,75.779999,75.879997,76.07,74.769997,74.190002,75.75,75.5,75.849998,77.25,76.449997,74.720001,75.309998,74.650002,74.650002,73.559998,73.709999,73.980003,71.519997,72.800003,71.870003,72.0,77.980003,80.68,82.25,80.370003,81.690002,88.230003,89.120003,87.5,86.889999,86.730003,88.419998,89.269997,87.690002,86.949997,85.459999,86.230003,91.900002,92.879997,94.0,93.199997,88.459999,95.599998,98.300003,99.970001,98.540001,98.599998,97.260002,95.480003,94.919998,95.589996,95.629997,97.949997,98.879997,100.419998,98.989998,101.099998,99.669998,101.099998,106.5,103.519997,101.160004,99.110001,107.839996,109.099998,111.160004,108.959999,109.959999,109.040001,108.459999,110.879997,107.940002,108.0,107.360001,109.160004,108.739998,105.959999,102.620003,98.879997,99.889999,97.129997,97.190002,93.959999,95.459999,97.300003,92.300003,89.269997,84.330002,85.519997,90.540001,94.080002,97.120003,102.120003,102.720001,111.760002,113.82,114.339996,114.900002,119.239998,119.440002,118.199997,119.220001,121.220001,120.639999,123.279999,124.0,120.099998,122.82,121.18,118.0,122.440002,124.160004,126.5,126.0,126.080002,128.039993,133.860001,133.380005,131.320007,127.160004,127.379997,128.300003,126.199997,128.779999,127.019997,124.080002,121.459999,120.360001,120.220001,121.379997,123.760002,130.360001,132.960007,137.320007,136.660004,136.199997,134.399994,127.360001,132.5,134.880005,135.720001,135.880005,137.199997,139.399994,137.279999,138.460007,138.979996,133.679993,127.360001,114.459999,96.410004,72.330002,75.190002,67.400002,63.200001,62.029999,57.98,65.260002,57.900002,56.68,57.189999,64.269997,80.980003,85.080002,72.120003,69.290001,67.790001,68.459999,70.739998,69.5,66.110001,69.599998,76.18,72.540001,74.080002,75.279999,74.029999,71.650002,68.410004,65.099998,68.739998,67.580002,68.699997,69.690002,71.0,90.43,91.400002,94.900002,97.040001,96.5,94.209999,93.059998,93.440002,94.57,93.25,93.480003,89.029999,94.57,94.889999,94.669998,103.980003,101.279999,101.059998,103.099998,98.690002,101.440002,104.099998,104.540001,104.18,102.760002,101.059998,99.599998,99.900002,109.699997,110.959999,113.220001,116.040001,114.440002,112.400002,114.019997,113.760002,113.879997,121.0,117.900002,117.019997,114.900002,116.68,118.099998,116.699997,116.139999,118.0,118.879997,116.959999,115.400002,114.339996,113.559998,114.139999,117.620003,115.720001,112.779999,103.720001,108.080002,105.739998,112.419998,113.940002,121.099998,119.720001,118.480003,115.059998,115.599998,118.959999,120.360001,117.300003,116.120003,106.360001,109.519997,109.279999,113.779999,111.919998,106.82,109.720001,106.699997,111.440002,108.199997,109.779999,112.279999,113.160004,111.959999,101.839996,99.0,96.93,96.620003,104.239998,107.339996,106.580002,106.139999,108.779999,111.040001,105.739998,101.959999,97.989998,100.720001,96.050003,93.050003,95.160004,99.339996,101.959999,110.0,115.660004,115.440002,115.360001,114.940002,112.300003,111.940002,114.300003,114.120003,113.68],\"low\":[41.064999,43.740002,46.040001,46.900002,46.555,47.509998,49.610001,50.98,55.169998,57.919998,59.400002,57.849998,60.299999,59.549999,60.700001,61.880001,59.509998,58.119999,58.880001,60.150002,61.82,59.029999,57.84,56.130001,59.77,58.0,56.32,61.139999,62.720001,60.080002,64.279999,60.52,57.389999,52.02,55.009998,55.0,53.68,51.259998,51.34,55.619999,54.0,54.450001,58.419998,61.900002,62.52,62.299999,64.43,61.740002,61.740002,61.02,61.279999,61.549999,58.5,55.360001,53.77,54.18,52.27,49.959999,52.299999,53.580002,57.029999,58.189999,57.52,59.049999,55.66,55.709999,54.91,55.759998,54.43,53.049999,53.759998,52.200001,53.77,52.939999,52.400002,50.099998,50.0,49.509998,48.07,49.625,51.02,50.200001,50.119999,50.099998,49.505001,49.625,50.619999,53.150002,52.18,52.220001,51.580002,53.299999,51.5,52.330002,52.240002,51.080002,51.0,54.5,55.23,58.73,58.09,59.459999,61.939999,61.73,62.310001,64.190002,64.32,64.419998,62.459999,62.459999,64.419998,65.599998,68.120003,69.639999,68.989998,68.279999,68.779999,70.900002,70.449997,69.230003,72.599998,73.220001,73.529999,71.75,72.18,73.040001,72.260002,73.129997,74.400002,71.580002,72.449997,73.739998,71.059998,70.5,70.5,70.169998,70.790001,70.370003,68.419998,69.519997,70.349998,72.139999,76.889999,80.139999,76.93,76.169998,80.330002,84.43,83.25,82.260002,84.349998,85.120003,87.059998,84.519997,83.959999,83.0,82.220001,85.800003,89.25,87.279999,87.129997,82.019997,81.330002,94.209999,93.57,93.339996,94.879997,91.870003,92.099998,91.550003,90.230003,90.230003,92.82,96.459999,98.489998,95.360001,97.540001,95.620003,98.610001,99.459999,98.400002,94.57,97.0,98.830002,104.620003,104.620003,105.760002,107.040001,104.959999,107.040001,106.199997,103.0,103.919998,104.040001,104.800003,104.0,93.589996,97.050003,91.519997,92.239998,94.019997,91.889999,89.959999,93.160004,88.150002,87.389999,78.830002,81.059998,77.5,82.639999,87.790001,93.010002,95.07,98.050003,101.5,109.959999,112.5,109.300003,111.559998,114.599998,112.620003,116.760002,116.5,116.379997,119.339996,119.18,115.059998,114.82,114.739998,112.599998,112.860001,120.160004,121.779999,122.400002,122.599998,123.0,128.139999,129.919998,122.959999,119.919998,120.279999,122.620003,120.480003,123.279999,122.220001,118.720001,117.5,114.360001,115.279999,117.620003,118.959999,121.639999,128.600006,132.5,133.539993,131.679993,124.059998,122.519997,126.559998,131.199997,129.240005,130.5,133.139999,135.619995,132.839996,132.960007,129.759995,127.059998,105.639999,99.5,69.169998,48.119999,52.849998,49.505001,50.91,52.619999,51.700001,50.150002,52.709999,48.209999,49.810001,54.509998,57.66,65.199997,63.450001,61.27,60.18,62.02,64.709999,62.98,61.75,60.779999,69.349998,66.970001,69.010002,66.790001,67.75,68.599998,57.869999,60.950001,64.800003,59.869999,62.560001,59.279999,61.68,71.75,87.300003,89.0,87.730003,91.410004,88.940002,82.75,89.779999,88.370003,88.120003,87.970001,81.839996,82.410004,89.540001,89.580002,90.199997,95.230003,96.269997,97.339996,93.139999,96.330002,99.43,97.730003,95.949997,98.800003,95.830002,93.18,93.559998,97.139999,105.860001,108.839996,112.080002,109.5,104.900002,107.220001,109.519997,103.120003,110.860001,113.379997,113.720001,108.199997,111.18,113.68,112.459999,111.860001,108.720001,111.879997,111.120003,111.260002,109.779999,107.160004,107.519997,112.139999,108.839996,95.730003,96.809998,99.099998,99.769997,100.260002,110.400002,113.220001,116.18,112.18,106.199997,108.660004,110.040001,112.5,105.720001,96.830002,90.239998,101.199997,104.800003,107.120003,101.720001,101.559998,102.300003,100.559998,102.580002,102.639999,104.0,102.739998,108.040001,101.860001,93.0,90.339996,90.160004,88.910004,94.0,102.660004,99.169998,101.879997,105.519997,106.18,101.660004,94.239998,94.25,91.18,90.830002,86.800003,86.519997,91.580002,96.589996,101.32,108.480003,111.699997,111.839996,112.860001,107.220001,107.040001,109.32,108.879997,110.580002],\"open\":[41.125,44.790001,46.439999,49.279999,47.029999,48.0,50.25,52.73,55.849998,58.970001,63.59,61.490002,60.84,60.650002,60.709999,61.950001,64.209999,61.200001,61.099998,61.0,64.239998,61.330002,59.5,59.880001,60.470001,58.299999,58.009998,61.200001,64.5,62.759998,64.870003,66.980003,63.07,54.900002,57.709999,55.959999,55.82,54.400002,53.82,55.939999,57.349998,55.0,59.720001,62.049999,66.059998,62.41,66.400002,67.870003,64.669998,62.759998,63.0,62.23,61.150002,58.580002,56.27,57.639999,57.82,53.57,52.650002,55.66,57.509998,61.700001,60.48,60.290001,60.220001,56.580002,57.110001,55.830002,57.779999,53.599998,54.189999,54.75,54.400002,55.900002,53.349998,52.0,52.040001,51.5,51.82,49.814999,52.560001,50.560001,52.900002,50.580002,52.220001,50.0,50.91,53.43,54.75,52.939999,53.459999,53.84,53.799999,52.330002,54.139999,54.509998,52.360001,55.380001,55.240002,60.02,58.799999,59.700001,64.169998,62.900002,62.68,65.059998,65.110001,65.0,64.540001,63.029999,64.480003,65.599998,68.389999,70.650002,70.25,69.699997,69.309998,71.400002,72.25,70.5,73.5,74.410004,75.120003,74.550003,74.019997,73.709999,75.43,75.050003,75.279999,75.980003,72.720001,74.290001,74.559998,71.010002,72.220001,73.599998,71.089996,71.32,70.559998,70.699997,70.900002,72.389999,77.5,80.330002,79.5,77.0,80.639999,86.029999,86.849998,83.360001,84.709999,85.559998,87.089996,87.669998,85.93,84.470001,83.029999,85.830002,90.400002,93.0,90.5,87.190002,84.0,95.529999,98.5,93.480003,98.5,96.0,92.93,92.879997,94.400002,90.279999,94.290001,96.849998,98.889999,98.699997,98.529999,98.980003,100.0,101.360001,103.519997,99.949997,97.650002,99.050003,107.120003,105.059998,108.959999,107.959999,107.400002,107.980003,108.199997,106.040001,104.5,106.019997,106.480003,108.68,104.339996,99.139999,98.339996,95.389999,96.010002,94.900002,92.900002,94.199997,97.269997,88.610001,88.43,81.540001,83.830002,85.959999,87.870003,93.260002,96.300003,101.199997,101.900002,111.160004,113.779999,114.300003,112.0,118.0,114.019997,118.900002,118.879997,117.779999,120.440002,122.0,117.019997,117.040001,120.720001,117.779999,113.699997,121.940002,122.839996,122.559998,123.5,124.199997,128.580002,131.199997,130.440002,122.720001,126.0,124.260002,122.199997,125.82,126.540001,121.0,120.199997,119.360001,117.779999,118.279999,120.379997,123.800003,130.380005,132.539993,136.259995,134.0,133.860001,126.900002,127.0,132.199997,133.119995,132.679993,134.399994,136.800003,135.020004,133.639999,136.100006,129.0,126.760002,110.0,89.300003,66.57,60.450001,67.309998,53.549999,61.66,57.549999,52.990002,55.0,56.529999,50.02,54.970001,59.18,80.5,64.75,67.879997,60.889999,67.419998,66.529999,66.0,63.580002,62.330002,69.68,72.0,69.519997,72.0,70.5,70.040001,68.330002,61.549999,65.839996,67.080002,64.360001,66.610001,62.970001,71.800003,87.400002,89.5,89.989998,95.620003,93.129997,85.0,93.0,92.839996,90.629997,91.190002,88.900002,84.129997,94.019997,92.870003,90.629997,97.75,96.870003,100.5,97.349998,98.650002,101.519997,101.300003,103.940002,98.910004,100.160004,99.0,99.599998,98.209999,107.919998,110.099998,112.860001,111.5,110.599998,111.940002,112.519997,108.5,111.120003,116.800003,116.580002,114.419998,112.0,115.220001,114.720001,114.620003,110.800003,116.5,116.559998,112.839996,114.260002,109.82,111.080002,114.0,114.379997,109.980003,101.160004,99.5,105.599998,101.559998,110.839996,113.599998,118.0,118.279999,112.519997,112.760002,111.879997,115.0,116.040001,115.459999,91.5,105.0,105.620003,107.120003,111.760002,102.580002,104.18,102.5,104.980003,105.519997,105.699997,108.379997,112.559998,109.5,100.099998,94.900002,93.220001,96.190002,94.699997,104.519997,105.5,104.360001,106.559998,108.800003,105.739998,100.559998,96.599998,96.900002,91.489998,91.099998,87.900002,91.800003,96.690002,101.980003,109.980003,113.760002,112.959999,114.0,110.400002,111.120003,111.300003,110.239998,112.940002],\"x\":[\"2015-01-05T00:00:00\",\"2015-01-12T00:00:00\",\"2015-01-19T00:00:00\",\"2015-01-26T00:00:00\",\"2015-02-02T00:00:00\",\"2015-02-09T00:00:00\",\"2015-02-16T00:00:00\",\"2015-02-23T00:00:00\",\"2015-03-02T00:00:00\",\"2015-03-09T00:00:00\",\"2015-03-16T00:00:00\",\"2015-03-23T00:00:00\",\"2015-03-30T00:00:00\",\"2015-04-06T00:00:00\",\"2015-04-13T00:00:00\",\"2015-04-20T00:00:00\",\"2015-04-27T00:00:00\",\"2015-05-04T00:00:00\",\"2015-05-11T00:00:00\",\"2015-05-18T00:00:00\",\"2015-05-25T00:00:00\",\"2015-06-01T00:00:00\",\"2015-06-08T00:00:00\",\"2015-06-15T00:00:00\",\"2015-06-22T00:00:00\",\"2015-06-29T00:00:00\",\"2015-07-06T00:00:00\",\"2015-07-13T00:00:00\",\"2015-07-20T00:00:00\",\"2015-07-27T00:00:00\",\"2015-08-03T00:00:00\",\"2015-08-10T00:00:00\",\"2015-08-17T00:00:00\",\"2015-08-24T00:00:00\",\"2015-08-31T00:00:00\",\"2015-09-07T00:00:00\",\"2015-09-14T00:00:00\",\"2015-09-21T00:00:00\",\"2015-09-28T00:00:00\",\"2015-10-05T00:00:00\",\"2015-10-12T00:00:00\",\"2015-10-19T00:00:00\",\"2015-10-26T00:00:00\",\"2015-11-02T00:00:00\",\"2015-11-09T00:00:00\",\"2015-11-16T00:00:00\",\"2015-11-23T00:00:00\",\"2015-11-30T00:00:00\",\"2015-12-07T00:00:00\",\"2015-12-14T00:00:00\",\"2015-12-21T00:00:00\",\"2015-12-28T00:00:00\",\"2016-01-04T00:00:00\",\"2016-01-11T00:00:00\",\"2016-01-18T00:00:00\",\"2016-01-25T00:00:00\",\"2016-02-01T00:00:00\",\"2016-02-08T00:00:00\",\"2016-02-15T00:00:00\",\"2016-02-22T00:00:00\",\"2016-02-29T00:00:00\",\"2016-03-07T00:00:00\",\"2016-03-14T00:00:00\",\"2016-03-21T00:00:00\",\"2016-03-28T00:00:00\",\"2016-04-04T00:00:00\",\"2016-04-11T00:00:00\",\"2016-04-18T00:00:00\",\"2016-04-25T00:00:00\",\"2016-05-02T00:00:00\",\"2016-05-09T00:00:00\",\"2016-05-16T00:00:00\",\"2016-05-23T00:00:00\",\"2016-05-30T00:00:00\",\"2016-06-06T00:00:00\",\"2016-06-13T00:00:00\",\"2016-06-20T00:00:00\",\"2016-06-27T00:00:00\",\"2016-07-04T00:00:00\",\"2016-07-11T00:00:00\",\"2016-07-18T00:00:00\",\"2016-07-25T00:00:00\",\"2016-08-01T00:00:00\",\"2016-08-08T00:00:00\",\"2016-08-15T00:00:00\",\"2016-08-22T00:00:00\",\"2016-08-29T00:00:00\",\"2016-09-05T00:00:00\",\"2016-09-12T00:00:00\",\"2016-09-19T00:00:00\",\"2016-09-26T00:00:00\",\"2016-10-03T00:00:00\",\"2016-10-10T00:00:00\",\"2016-10-17T00:00:00\",\"2016-10-24T00:00:00\",\"2016-10-31T00:00:00\",\"2016-11-07T00:00:00\",\"2016-11-14T00:00:00\",\"2016-11-21T00:00:00\",\"2016-11-28T00:00:00\",\"2016-12-05T00:00:00\",\"2016-12-12T00:00:00\",\"2016-12-19T00:00:00\",\"2016-12-26T00:00:00\",\"2017-01-02T00:00:00\",\"2017-01-09T00:00:00\",\"2017-01-16T00:00:00\",\"2017-01-23T00:00:00\",\"2017-01-30T00:00:00\",\"2017-02-06T00:00:00\",\"2017-02-13T00:00:00\",\"2017-02-20T00:00:00\",\"2017-02-27T00:00:00\",\"2017-03-06T00:00:00\",\"2017-03-13T00:00:00\",\"2017-03-20T00:00:00\",\"2017-03-27T00:00:00\",\"2017-04-03T00:00:00\",\"2017-04-10T00:00:00\",\"2017-04-17T00:00:00\",\"2017-04-24T00:00:00\",\"2017-05-01T00:00:00\",\"2017-05-08T00:00:00\",\"2017-05-15T00:00:00\",\"2017-05-22T00:00:00\",\"2017-05-29T00:00:00\",\"2017-06-05T00:00:00\",\"2017-06-12T00:00:00\",\"2017-06-19T00:00:00\",\"2017-06-26T00:00:00\",\"2017-07-03T00:00:00\",\"2017-07-10T00:00:00\",\"2017-07-17T00:00:00\",\"2017-07-24T00:00:00\",\"2017-07-31T00:00:00\",\"2017-08-07T00:00:00\",\"2017-08-14T00:00:00\",\"2017-08-21T00:00:00\",\"2017-08-28T00:00:00\",\"2017-09-04T00:00:00\",\"2017-09-11T00:00:00\",\"2017-09-18T00:00:00\",\"2017-09-25T00:00:00\",\"2017-10-02T00:00:00\",\"2017-10-09T00:00:00\",\"2017-10-16T00:00:00\",\"2017-10-23T00:00:00\",\"2017-10-30T00:00:00\",\"2017-11-06T00:00:00\",\"2017-11-13T00:00:00\",\"2017-11-20T00:00:00\",\"2017-11-27T00:00:00\",\"2017-12-04T00:00:00\",\"2017-12-11T00:00:00\",\"2017-12-18T00:00:00\",\"2017-12-25T00:00:00\",\"2018-01-01T00:00:00\",\"2018-01-08T00:00:00\",\"2018-01-15T00:00:00\",\"2018-01-22T00:00:00\",\"2018-01-29T00:00:00\",\"2018-02-05T00:00:00\",\"2018-02-12T00:00:00\",\"2018-02-19T00:00:00\",\"2018-02-26T00:00:00\",\"2018-03-05T00:00:00\",\"2018-03-12T00:00:00\",\"2018-03-19T00:00:00\",\"2018-03-26T00:00:00\",\"2018-04-02T00:00:00\",\"2018-04-09T00:00:00\",\"2018-04-16T00:00:00\",\"2018-04-23T00:00:00\",\"2018-04-30T00:00:00\",\"2018-05-07T00:00:00\",\"2018-05-14T00:00:00\",\"2018-05-21T00:00:00\",\"2018-05-28T00:00:00\",\"2018-06-04T00:00:00\",\"2018-06-11T00:00:00\",\"2018-06-18T00:00:00\",\"2018-06-25T00:00:00\",\"2018-07-02T00:00:00\",\"2018-07-09T00:00:00\",\"2018-07-16T00:00:00\",\"2018-07-23T00:00:00\",\"2018-07-30T00:00:00\",\"2018-08-06T00:00:00\",\"2018-08-13T00:00:00\",\"2018-08-20T00:00:00\",\"2018-08-27T00:00:00\",\"2018-09-03T00:00:00\",\"2018-09-10T00:00:00\",\"2018-09-17T00:00:00\",\"2018-09-24T00:00:00\",\"2018-10-01T00:00:00\",\"2018-10-08T00:00:00\",\"2018-10-15T00:00:00\",\"2018-10-22T00:00:00\",\"2018-10-29T00:00:00\",\"2018-11-05T00:00:00\",\"2018-11-12T00:00:00\",\"2018-11-19T00:00:00\",\"2018-11-26T00:00:00\",\"2018-12-03T00:00:00\",\"2018-12-10T00:00:00\",\"2018-12-17T00:00:00\",\"2018-12-24T00:00:00\",\"2018-12-31T00:00:00\",\"2019-01-07T00:00:00\",\"2019-01-14T00:00:00\",\"2019-01-21T00:00:00\",\"2019-01-28T00:00:00\",\"2019-02-04T00:00:00\",\"2019-02-11T00:00:00\",\"2019-02-18T00:00:00\",\"2019-02-25T00:00:00\",\"2019-03-04T00:00:00\",\"2019-03-11T00:00:00\",\"2019-03-18T00:00:00\",\"2019-03-25T00:00:00\",\"2019-04-01T00:00:00\",\"2019-04-08T00:00:00\",\"2019-04-15T00:00:00\",\"2019-04-22T00:00:00\",\"2019-04-29T00:00:00\",\"2019-05-06T00:00:00\",\"2019-05-13T00:00:00\",\"2019-05-20T00:00:00\",\"2019-05-27T00:00:00\",\"2019-06-03T00:00:00\",\"2019-06-10T00:00:00\",\"2019-06-17T00:00:00\",\"2019-06-24T00:00:00\",\"2019-07-01T00:00:00\",\"2019-07-08T00:00:00\",\"2019-07-15T00:00:00\",\"2019-07-22T00:00:00\",\"2019-07-29T00:00:00\",\"2019-08-05T00:00:00\",\"2019-08-12T00:00:00\",\"2019-08-19T00:00:00\",\"2019-08-26T00:00:00\",\"2019-09-02T00:00:00\",\"2019-09-09T00:00:00\",\"2019-09-16T00:00:00\",\"2019-09-23T00:00:00\",\"2019-09-30T00:00:00\",\"2019-10-07T00:00:00\",\"2019-10-14T00:00:00\",\"2019-10-21T00:00:00\",\"2019-10-28T00:00:00\",\"2019-11-04T00:00:00\",\"2019-11-11T00:00:00\",\"2019-11-18T00:00:00\",\"2019-11-25T00:00:00\",\"2019-12-02T00:00:00\",\"2019-12-09T00:00:00\",\"2019-12-16T00:00:00\",\"2019-12-23T00:00:00\",\"2019-12-30T00:00:00\",\"2020-01-06T00:00:00\",\"2020-01-13T00:00:00\",\"2020-01-20T00:00:00\",\"2020-01-27T00:00:00\",\"2020-02-03T00:00:00\",\"2020-02-10T00:00:00\",\"2020-02-17T00:00:00\",\"2020-02-24T00:00:00\",\"2020-03-02T00:00:00\",\"2020-03-09T00:00:00\",\"2020-03-16T00:00:00\",\"2020-03-23T00:00:00\",\"2020-03-30T00:00:00\",\"2020-04-06T00:00:00\",\"2020-04-13T00:00:00\",\"2020-04-20T00:00:00\",\"2020-04-27T00:00:00\",\"2020-05-04T00:00:00\",\"2020-05-11T00:00:00\",\"2020-05-18T00:00:00\",\"2020-05-25T00:00:00\",\"2020-06-01T00:00:00\",\"2020-06-08T00:00:00\",\"2020-06-15T00:00:00\",\"2020-06-22T00:00:00\",\"2020-06-29T00:00:00\",\"2020-07-06T00:00:00\",\"2020-07-13T00:00:00\",\"2020-07-20T00:00:00\",\"2020-07-27T00:00:00\",\"2020-08-03T00:00:00\",\"2020-08-10T00:00:00\",\"2020-08-17T00:00:00\",\"2020-08-24T00:00:00\",\"2020-08-31T00:00:00\",\"2020-09-07T00:00:00\",\"2020-09-14T00:00:00\",\"2020-09-21T00:00:00\",\"2020-09-28T00:00:00\",\"2020-10-05T00:00:00\",\"2020-10-12T00:00:00\",\"2020-10-19T00:00:00\",\"2020-10-26T00:00:00\",\"2020-11-02T00:00:00\",\"2020-11-09T00:00:00\",\"2020-11-16T00:00:00\",\"2020-11-23T00:00:00\",\"2020-11-30T00:00:00\",\"2020-12-07T00:00:00\",\"2020-12-14T00:00:00\",\"2020-12-21T00:00:00\",\"2020-12-28T00:00:00\",\"2021-01-04T00:00:00\",\"2021-01-11T00:00:00\",\"2021-01-18T00:00:00\",\"2021-01-25T00:00:00\",\"2021-02-01T00:00:00\",\"2021-02-08T00:00:00\",\"2021-02-15T00:00:00\",\"2021-02-22T00:00:00\",\"2021-03-01T00:00:00\",\"2021-03-08T00:00:00\",\"2021-03-15T00:00:00\",\"2021-03-22T00:00:00\",\"2021-03-29T00:00:00\",\"2021-04-05T00:00:00\",\"2021-04-12T00:00:00\",\"2021-04-19T00:00:00\",\"2021-04-26T00:00:00\",\"2021-05-03T00:00:00\",\"2021-05-10T00:00:00\",\"2021-05-17T00:00:00\",\"2021-05-24T00:00:00\",\"2021-05-31T00:00:00\",\"2021-06-07T00:00:00\",\"2021-06-14T00:00:00\",\"2021-06-21T00:00:00\",\"2021-06-28T00:00:00\",\"2021-07-05T00:00:00\",\"2021-07-12T00:00:00\",\"2021-07-19T00:00:00\",\"2021-07-26T00:00:00\",\"2021-08-02T00:00:00\",\"2021-08-09T00:00:00\",\"2021-08-16T00:00:00\",\"2021-08-23T00:00:00\",\"2021-08-30T00:00:00\",\"2021-09-06T00:00:00\",\"2021-09-13T00:00:00\",\"2021-09-20T00:00:00\",\"2021-09-27T00:00:00\",\"2021-10-04T00:00:00\",\"2021-10-11T00:00:00\",\"2021-10-18T00:00:00\",\"2021-10-25T00:00:00\",\"2021-11-01T00:00:00\",\"2021-11-08T00:00:00\",\"2021-11-15T00:00:00\",\"2021-11-22T00:00:00\",\"2021-11-29T00:00:00\",\"2021-12-06T00:00:00\",\"2021-12-13T00:00:00\",\"2021-12-20T00:00:00\",\"2021-12-27T00:00:00\",\"2022-01-03T00:00:00\",\"2022-01-10T00:00:00\",\"2022-01-17T00:00:00\",\"2022-01-24T00:00:00\",\"2022-01-31T00:00:00\",\"2022-02-07T00:00:00\",\"2022-02-14T00:00:00\",\"2022-02-21T00:00:00\",\"2022-02-28T00:00:00\",\"2022-03-07T00:00:00\",\"2022-03-14T00:00:00\",\"2022-03-21T00:00:00\",\"2022-03-28T00:00:00\",\"2022-04-04T00:00:00\",\"2022-04-11T00:00:00\",\"2022-04-18T00:00:00\",\"2022-04-25T00:00:00\",\"2022-05-02T00:00:00\",\"2022-05-09T00:00:00\",\"2022-05-16T00:00:00\",\"2022-05-23T00:00:00\",\"2022-05-30T00:00:00\",\"2022-06-06T00:00:00\",\"2022-06-13T00:00:00\",\"2022-06-20T00:00:00\",\"2022-06-27T00:00:00\",\"2022-07-04T00:00:00\",\"2022-07-11T00:00:00\",\"2022-07-18T00:00:00\",\"2022-07-25T00:00:00\",\"2022-08-01T00:00:00\",\"2022-08-08T00:00:00\",\"2022-08-15T00:00:00\",\"2022-08-22T00:00:00\",\"2022-08-29T00:00:00\",\"2022-09-05T00:00:00\",\"2022-09-12T00:00:00\",\"2022-09-19T00:00:00\",\"2022-09-26T00:00:00\",\"2022-10-03T00:00:00\",\"2022-10-10T00:00:00\",\"2022-10-17T00:00:00\",\"2022-10-24T00:00:00\",\"2022-10-31T00:00:00\",\"2022-11-07T00:00:00\",\"2022-11-14T00:00:00\",\"2022-11-21T00:00:00\",\"2022-11-28T00:00:00\",\"2022-12-05T00:00:00\",\"2022-12-12T00:00:00\",\"2022-12-19T00:00:00\",\"2022-12-26T00:00:00\"],\"type\":\"candlestick\"}],                        {\"template\":{\"data\":{\"histogram2dcontour\":[{\"type\":\"histogram2dcontour\",\"colorbar\":{\"outlinewidth\":0,\"ticks\":\"\"},\"colorscale\":[[0.0,\"#0d0887\"],[0.1111111111111111,\"#46039f\"],[0.2222222222222222,\"#7201a8\"],[0.3333333333333333,\"#9c179e\"],[0.4444444444444444,\"#bd3786\"],[0.5555555555555556,\"#d8576b\"],[0.6666666666666666,\"#ed7953\"],[0.7777777777777778,\"#fb9f3a\"],[0.8888888888888888,\"#fdca26\"],[1.0,\"#f0f921\"]]}],\"choropleth\":[{\"type\":\"choropleth\",\"colorbar\":{\"outlinewidth\":0,\"ticks\":\"\"}}],\"histogram2d\":[{\"type\":\"histogram2d\",\"colorbar\":{\"outlinewidth\":0,\"ticks\":\"\"},\"colorscale\":[[0.0,\"#0d0887\"],[0.1111111111111111,\"#46039f\"],[0.2222222222222222,\"#7201a8\"],[0.3333333333333333,\"#9c179e\"],[0.4444444444444444,\"#bd3786\"],[0.5555555555555556,\"#d8576b\"],[0.6666666666666666,\"#ed7953\"],[0.7777777777777778,\"#fb9f3a\"],[0.8888888888888888,\"#fdca26\"],[1.0,\"#f0f921\"]]}],\"heatmap\":[{\"type\":\"heatmap\",\"colorbar\":{\"outlinewidth\":0,\"ticks\":\"\"},\"colorscale\":[[0.0,\"#0d0887\"],[0.1111111111111111,\"#46039f\"],[0.2222222222222222,\"#7201a8\"],[0.3333333333333333,\"#9c179e\"],[0.4444444444444444,\"#bd3786\"],[0.5555555555555556,\"#d8576b\"],[0.6666666666666666,\"#ed7953\"],[0.7777777777777778,\"#fb9f3a\"],[0.8888888888888888,\"#fdca26\"],[1.0,\"#f0f921\"]]}],\"heatmapgl\":[{\"type\":\"heatmapgl\",\"colorbar\":{\"outlinewidth\":0,\"ticks\":\"\"},\"colorscale\":[[0.0,\"#0d0887\"],[0.1111111111111111,\"#46039f\"],[0.2222222222222222,\"#7201a8\"],[0.3333333333333333,\"#9c179e\"],[0.4444444444444444,\"#bd3786\"],[0.5555555555555556,\"#d8576b\"],[0.6666666666666666,\"#ed7953\"],[0.7777777777777778,\"#fb9f3a\"],[0.8888888888888888,\"#fdca26\"],[1.0,\"#f0f921\"]]}],\"contourcarpet\":[{\"type\":\"contourcarpet\",\"colorbar\":{\"outlinewidth\":0,\"ticks\":\"\"}}],\"contour\":[{\"type\":\"contour\",\"colorbar\":{\"outlinewidth\":0,\"ticks\":\"\"},\"colorscale\":[[0.0,\"#0d0887\"],[0.1111111111111111,\"#46039f\"],[0.2222222222222222,\"#7201a8\"],[0.3333333333333333,\"#9c179e\"],[0.4444444444444444,\"#bd3786\"],[0.5555555555555556,\"#d8576b\"],[0.6666666666666666,\"#ed7953\"],[0.7777777777777778,\"#fb9f3a\"],[0.8888888888888888,\"#fdca26\"],[1.0,\"#f0f921\"]]}],\"surface\":[{\"type\":\"surface\",\"colorbar\":{\"outlinewidth\":0,\"ticks\":\"\"},\"colorscale\":[[0.0,\"#0d0887\"],[0.1111111111111111,\"#46039f\"],[0.2222222222222222,\"#7201a8\"],[0.3333333333333333,\"#9c179e\"],[0.4444444444444444,\"#bd3786\"],[0.5555555555555556,\"#d8576b\"],[0.6666666666666666,\"#ed7953\"],[0.7777777777777778,\"#fb9f3a\"],[0.8888888888888888,\"#fdca26\"],[1.0,\"#f0f921\"]]}],\"mesh3d\":[{\"type\":\"mesh3d\",\"colorbar\":{\"outlinewidth\":0,\"ticks\":\"\"}}],\"scatter\":[{\"fillpattern\":{\"fillmode\":\"overlay\",\"size\":10,\"solidity\":0.2},\"type\":\"scatter\"}],\"parcoords\":[{\"type\":\"parcoords\",\"line\":{\"colorbar\":{\"outlinewidth\":0,\"ticks\":\"\"}}}],\"scatterpolargl\":[{\"type\":\"scatterpolargl\",\"marker\":{\"colorbar\":{\"outlinewidth\":0,\"ticks\":\"\"}}}],\"bar\":[{\"error_x\":{\"color\":\"#2a3f5f\"},\"error_y\":{\"color\":\"#2a3f5f\"},\"marker\":{\"line\":{\"color\":\"#E5ECF6\",\"width\":0.5},\"pattern\":{\"fillmode\":\"overlay\",\"size\":10,\"solidity\":0.2}},\"type\":\"bar\"}],\"scattergeo\":[{\"type\":\"scattergeo\",\"marker\":{\"colorbar\":{\"outlinewidth\":0,\"ticks\":\"\"}}}],\"scatterpolar\":[{\"type\":\"scatterpolar\",\"marker\":{\"colorbar\":{\"outlinewidth\":0,\"ticks\":\"\"}}}],\"histogram\":[{\"marker\":{\"pattern\":{\"fillmode\":\"overlay\",\"size\":10,\"solidity\":0.2}},\"type\":\"histogram\"}],\"scattergl\":[{\"type\":\"scattergl\",\"marker\":{\"colorbar\":{\"outlinewidth\":0,\"ticks\":\"\"}}}],\"scatter3d\":[{\"type\":\"scatter3d\",\"line\":{\"colorbar\":{\"outlinewidth\":0,\"ticks\":\"\"}},\"marker\":{\"colorbar\":{\"outlinewidth\":0,\"ticks\":\"\"}}}],\"scattermapbox\":[{\"type\":\"scattermapbox\",\"marker\":{\"colorbar\":{\"outlinewidth\":0,\"ticks\":\"\"}}}],\"scatterternary\":[{\"type\":\"scatterternary\",\"marker\":{\"colorbar\":{\"outlinewidth\":0,\"ticks\":\"\"}}}],\"scattercarpet\":[{\"type\":\"scattercarpet\",\"marker\":{\"colorbar\":{\"outlinewidth\":0,\"ticks\":\"\"}}}],\"carpet\":[{\"aaxis\":{\"endlinecolor\":\"#2a3f5f\",\"gridcolor\":\"white\",\"linecolor\":\"white\",\"minorgridcolor\":\"white\",\"startlinecolor\":\"#2a3f5f\"},\"baxis\":{\"endlinecolor\":\"#2a3f5f\",\"gridcolor\":\"white\",\"linecolor\":\"white\",\"minorgridcolor\":\"white\",\"startlinecolor\":\"#2a3f5f\"},\"type\":\"carpet\"}],\"table\":[{\"cells\":{\"fill\":{\"color\":\"#EBF0F8\"},\"line\":{\"color\":\"white\"}},\"header\":{\"fill\":{\"color\":\"#C8D4E3\"},\"line\":{\"color\":\"white\"}},\"type\":\"table\"}],\"barpolar\":[{\"marker\":{\"line\":{\"color\":\"#E5ECF6\",\"width\":0.5},\"pattern\":{\"fillmode\":\"overlay\",\"size\":10,\"solidity\":0.2}},\"type\":\"barpolar\"}],\"pie\":[{\"automargin\":true,\"type\":\"pie\"}]},\"layout\":{\"autotypenumbers\":\"strict\",\"colorway\":[\"#636efa\",\"#EF553B\",\"#00cc96\",\"#ab63fa\",\"#FFA15A\",\"#19d3f3\",\"#FF6692\",\"#B6E880\",\"#FF97FF\",\"#FECB52\"],\"font\":{\"color\":\"#2a3f5f\"},\"hovermode\":\"closest\",\"hoverlabel\":{\"align\":\"left\"},\"paper_bgcolor\":\"white\",\"plot_bgcolor\":\"#E5ECF6\",\"polar\":{\"bgcolor\":\"#E5ECF6\",\"angularaxis\":{\"gridcolor\":\"white\",\"linecolor\":\"white\",\"ticks\":\"\"},\"radialaxis\":{\"gridcolor\":\"white\",\"linecolor\":\"white\",\"ticks\":\"\"}},\"ternary\":{\"bgcolor\":\"#E5ECF6\",\"aaxis\":{\"gridcolor\":\"white\",\"linecolor\":\"white\",\"ticks\":\"\"},\"baxis\":{\"gridcolor\":\"white\",\"linecolor\":\"white\",\"ticks\":\"\"},\"caxis\":{\"gridcolor\":\"white\",\"linecolor\":\"white\",\"ticks\":\"\"}},\"coloraxis\":{\"colorbar\":{\"outlinewidth\":0,\"ticks\":\"\"}},\"colorscale\":{\"sequential\":[[0.0,\"#0d0887\"],[0.1111111111111111,\"#46039f\"],[0.2222222222222222,\"#7201a8\"],[0.3333333333333333,\"#9c179e\"],[0.4444444444444444,\"#bd3786\"],[0.5555555555555556,\"#d8576b\"],[0.6666666666666666,\"#ed7953\"],[0.7777777777777778,\"#fb9f3a\"],[0.8888888888888888,\"#fdca26\"],[1.0,\"#f0f921\"]],\"sequentialminus\":[[0.0,\"#0d0887\"],[0.1111111111111111,\"#46039f\"],[0.2222222222222222,\"#7201a8\"],[0.3333333333333333,\"#9c179e\"],[0.4444444444444444,\"#bd3786\"],[0.5555555555555556,\"#d8576b\"],[0.6666666666666666,\"#ed7953\"],[0.7777777777777778,\"#fb9f3a\"],[0.8888888888888888,\"#fdca26\"],[1.0,\"#f0f921\"]],\"diverging\":[[0,\"#8e0152\"],[0.1,\"#c51b7d\"],[0.2,\"#de77ae\"],[0.3,\"#f1b6da\"],[0.4,\"#fde0ef\"],[0.5,\"#f7f7f7\"],[0.6,\"#e6f5d0\"],[0.7,\"#b8e186\"],[0.8,\"#7fbc41\"],[0.9,\"#4d9221\"],[1,\"#276419\"]]},\"xaxis\":{\"gridcolor\":\"white\",\"linecolor\":\"white\",\"ticks\":\"\",\"title\":{\"standoff\":15},\"zerolinecolor\":\"white\",\"automargin\":true,\"zerolinewidth\":2},\"yaxis\":{\"gridcolor\":\"white\",\"linecolor\":\"white\",\"ticks\":\"\",\"title\":{\"standoff\":15},\"zerolinecolor\":\"white\",\"automargin\":true,\"zerolinewidth\":2},\"scene\":{\"xaxis\":{\"backgroundcolor\":\"#E5ECF6\",\"gridcolor\":\"white\",\"linecolor\":\"white\",\"showbackground\":true,\"ticks\":\"\",\"zerolinecolor\":\"white\",\"gridwidth\":2},\"yaxis\":{\"backgroundcolor\":\"#E5ECF6\",\"gridcolor\":\"white\",\"linecolor\":\"white\",\"showbackground\":true,\"ticks\":\"\",\"zerolinecolor\":\"white\",\"gridwidth\":2},\"zaxis\":{\"backgroundcolor\":\"#E5ECF6\",\"gridcolor\":\"white\",\"linecolor\":\"white\",\"showbackground\":true,\"ticks\":\"\",\"zerolinecolor\":\"white\",\"gridwidth\":2}},\"shapedefaults\":{\"line\":{\"color\":\"#2a3f5f\"}},\"annotationdefaults\":{\"arrowcolor\":\"#2a3f5f\",\"arrowhead\":0,\"arrowwidth\":1},\"geo\":{\"bgcolor\":\"white\",\"landcolor\":\"#E5ECF6\",\"subunitcolor\":\"white\",\"showland\":true,\"showlakes\":true,\"lakecolor\":\"white\"},\"title\":{\"x\":0.05},\"mapbox\":{\"style\":\"light\"}}}},                        {\"responsive\": true}                    ).then(function(){\n",
       "                            \n",
       "var gd = document.getElementById('eabfa4a4-561f-445f-adaf-99394c15a5ca');\n",
       "var x = new MutationObserver(function (mutations, observer) {{\n",
       "        var display = window.getComputedStyle(gd).display;\n",
       "        if (!display || display === 'none') {{\n",
       "            console.log([gd, 'removed!']);\n",
       "            Plotly.purge(gd);\n",
       "            observer.disconnect();\n",
       "        }}\n",
       "}});\n",
       "\n",
       "// Listen for the removal of the full notebook cells\n",
       "var notebookContainer = gd.closest('#notebook-container');\n",
       "if (notebookContainer) {{\n",
       "    x.observe(notebookContainer, {childList: true});\n",
       "}}\n",
       "\n",
       "// Listen for the clearing of the current output cell\n",
       "var outputEl = gd.closest('.output');\n",
       "if (outputEl) {{\n",
       "    x.observe(outputEl, {childList: true});\n",
       "}}\n",
       "\n",
       "                        })                };                });            </script>        </div>"
      ]
     },
     "metadata": {},
     "output_type": "display_data"
    }
   ],
   "source": [
    "dfw_2 = dfw[pd.Timestamp('2015-01-05'):]\n",
    "fig = go.Figure(data=[go.Candlestick(x=dfw_2.index,\n",
    "                open=dfw_2['Open'],\n",
    "                high=dfw_2['High'],\n",
    "                low=dfw_2['Low'],\n",
    "                close=dfw_2['Close'])])\n",
    "\n",
    "fig.show()"
   ]
  },
  {
   "cell_type": "markdown",
   "id": "nVvUax6Yttbb",
   "metadata": {
    "id": "nVvUax6Yttbb"
   },
   "source": [
    "Now, finally lets calculate moving averages for both the daily and weekly datasets and visualize them to look at a different perspective of the data."
   ]
  },
  {
   "cell_type": "markdown",
   "id": "i8DsiS2evPPF",
   "metadata": {
    "id": "i8DsiS2evPPF"
   },
   "source": [
    "Now lets plot the data from the year 2018 to the latest entry."
   ]
  },
  {
   "cell_type": "markdown",
   "id": "wWUC32iTK5Oa",
   "metadata": {
    "id": "wWUC32iTK5Oa"
   },
   "source": [
    "## Machine Learning"
   ]
  },
  {
   "cell_type": "markdown",
   "id": "c8LU0FO3LBjh",
   "metadata": {
    "id": "c8LU0FO3LBjh"
   },
   "source": [
    "Now that we have analysed the data and calculated the OHLC data in the standard form. Let us get started with the Machine Learning part where it all gets much more interesting. First we store the average value of the OHLC data and normalise it for further use."
   ]
  },
  {
   "cell_type": "code",
   "execution_count": 76,
   "id": "legal-stomach",
   "metadata": {
    "colab": {
     "base_uri": "https://localhost:8080/",
     "height": 430
    },
    "id": "legal-stomach",
    "outputId": "c1b655c3-dffb-4513-8672-e31821d67c75"
   },
   "outputs": [
    {
     "data": {
      "image/png": "[encoded data removed]",
      "text/plain": [
       "<Figure size 432x288 with 1 Axes>"
      ]
     },
     "metadata": {
      "needs_background": "light"
     },
     "output_type": "display_data"
    }
   ],
   "source": [
    "ohlc_avg = df[['Open','High','Low','Close']].mean(axis = 1).plot()\n",
    "plt.grid()"
   ]
  },
  {
   "cell_type": "code",
   "execution_count": 78,
   "id": "portable-somerset",
   "metadata": {},
   "outputs": [],
   "source": [
    "ohlc_avg = df[['Open','High','Low','Close']].mean(axis = 1)\n",
    "ohlc_avg = np.reshape(ohlc_avg.values, (len(ohlc_avg),1))\n",
    "scaler = MinMaxScaler(feature_range=(0,1))\n",
    "ohlc_avg = scaler.fit_transform(ohlc_avg)"
   ]
  },
  {
   "cell_type": "code",
   "execution_count": 56,
   "id": "north-smooth",
   "metadata": {
    "id": "north-smooth"
   },
   "outputs": [],
   "source": [
    "train_ohlc = int(len(ohlc_avg) * 0.75)\n",
    "test_ohlc = len(ohlc_avg) - train_ohlc\n",
    "train_ohlc, test_ohlc = ohlc_avg[:train_ohlc,:], ohlc_avg[train_ohlc:len(ohlc_avg),:]"
   ]
  },
  {
   "cell_type": "code",
   "execution_count": 57,
   "id": "alpine-wells",
   "metadata": {
    "id": "alpine-wells"
   },
   "outputs": [],
   "source": [
    "def new_dataset(dataset, step_size):\n",
    "    data_X, data_Y = [], []\n",
    "    for i in range(len(dataset) - step_size - 1):\n",
    "        a = dataset[i:(i+step_size), 0]\n",
    "        data_X.append(a)\n",
    "        data_Y.append(dataset[i + step_size, 0])\n",
    "    return np.array(data_X), np.array(data_Y)"
   ]
  },
  {
   "cell_type": "code",
   "execution_count": 58,
   "id": "super-wilderness",
   "metadata": {
    "id": "super-wilderness"
   },
   "outputs": [],
   "source": [
    "train_X, train_Y = new_dataset(train_ohlc, 1)\n",
    "test_X, test_Y = new_dataset(test_ohlc, 1)"
   ]
  },
  {
   "cell_type": "code",
   "execution_count": 59,
   "id": "lightweight-server",
   "metadata": {
    "id": "lightweight-server"
   },
   "outputs": [],
   "source": [
    "train_X = np.reshape(train_X, (train_X.shape[0], 1, train_X.shape[1]))\n",
    "test_X = np.reshape(test_X, (test_X.shape[0], 1, test_X.shape[1]))"
   ]
  },
  {
   "cell_type": "code",
   "execution_count": 60,
   "id": "compliant-camcorder",
   "metadata": {
    "colab": {
     "base_uri": "https://localhost:8080/"
    },
    "id": "compliant-camcorder",
    "outputId": "66037421-e71e-44ea-ffe4-822f3de13e76"
   },
   "outputs": [
    {
     "name": "stdout",
     "output_type": "stream",
     "text": [
      "(4099, 1, 1) (1366, 1, 1)\n"
     ]
    }
   ],
   "source": [
    "print(train_X.shape, test_X.shape)"
   ]
  },
  {
   "cell_type": "code",
   "execution_count": 61,
   "id": "registered-merchant",
   "metadata": {
    "id": "registered-merchant"
   },
   "outputs": [],
   "source": [
    "model = Sequential()\n",
    "model.add(LSTM(32, input_shape = (1, 1), return_sequences = True))\n",
    "model.add(LSTM(16))\n",
    "model.add(Dense(1))"
   ]
  },
  {
   "cell_type": "code",
   "execution_count": 62,
   "id": "proper-table",
   "metadata": {
    "colab": {
     "base_uri": "https://localhost:8080/"
    },
    "id": "proper-table",
    "outputId": "470d8f08-4d25-418b-856a-1e606f5bec83"
   },
   "outputs": [
    {
     "name": "stdout",
     "output_type": "stream",
     "text": [
      "Epoch 1/5\n",
      " - 11s - loss: 0.0013\n",
      "Epoch 2/5\n",
      " - 10s - loss: 3.4442e-05\n",
      "Epoch 3/5\n",
      " - 10s - loss: 3.2220e-05\n",
      "Epoch 4/5\n",
      " - 10s - loss: 3.2974e-05\n",
      "Epoch 5/5\n",
      " - 10s - loss: 3.3487e-05\n"
     ]
    }
   ],
   "source": [
    "model.compile(loss = 'mean_squared_error', optimizer = 'adam')\n",
    "model.fit(train_X, train_Y, epochs = 5, batch_size = 1, verbose = 2)\n",
    "\n",
    "train_predict = model.predict(train_X)\n",
    "test_predict = model.predict(test_X)"
   ]
  },
  {
   "cell_type": "code",
   "execution_count": 63,
   "id": "anticipated-christian",
   "metadata": {
    "id": "anticipated-christian"
   },
   "outputs": [],
   "source": [
    "trainPredict = scaler.inverse_transform(train_predict)\n",
    "train_Y = scaler.inverse_transform([train_Y])\n",
    "testPredict = scaler.inverse_transform(test_predict)\n",
    "test_Y = scaler.inverse_transform([test_Y])"
   ]
  },
  {
   "cell_type": "code",
   "execution_count": 64,
   "id": "supreme-spirit",
   "metadata": {
    "colab": {
     "base_uri": "https://localhost:8080/"
    },
    "id": "supreme-spirit",
    "outputId": "a592b923-d9c2-4faa-a402-dee0b0221704"
   },
   "outputs": [
    {
     "data": {
      "text/plain": [
       "(1366, 1)"
      ]
     },
     "execution_count": 64,
     "metadata": {},
     "output_type": "execute_result"
    }
   ],
   "source": [
    "testPredict.shape"
   ]
  },
  {
   "cell_type": "code",
   "execution_count": 65,
   "id": "different-being",
   "metadata": {
    "colab": {
     "base_uri": "https://localhost:8080/"
    },
    "id": "different-being",
    "outputId": "2afc7448-9d10-4bbd-92e4-86eb03fd2030"
   },
   "outputs": [
    {
     "name": "stdout",
     "output_type": "stream",
     "text": [
      "Train RMSE:  0.917\n",
      "Test RMSE:  5.46\n"
     ]
    }
   ],
   "source": [
    "trainScore = math.sqrt(mean_squared_error(train_Y[0], trainPredict[:,0]))\n",
    "print(\"Train RMSE: \", round(trainScore,3))\n",
    "\n",
    "testScore = math.sqrt(mean_squared_error(test_Y[0], testPredict[:,0]))\n",
    "print(\"Test RMSE: \", round(testScore,3))"
   ]
  },
  {
   "cell_type": "code",
   "execution_count": 66,
   "id": "selective-chick",
   "metadata": {
    "colab": {
     "base_uri": "https://localhost:8080/",
     "height": 469
    },
    "id": "selective-chick",
    "outputId": "e5335546-d728-49f1-b778-8868dbc4c7a0"
   },
   "outputs": [
    {
     "data": {
      "text/plain": [
       "<matplotlib.legend.Legend at 0x2322747f400>"
      ]
     },
     "execution_count": 66,
     "metadata": {},
     "output_type": "execute_result"
    },
    {
     "data": {
      "image/png": "[encoded data removed]",
      "text/plain": [
       "<Figure size 432x288 with 1 Axes>"
      ]
     },
     "metadata": {
      "needs_background": "light"
     },
     "output_type": "display_data"
    }
   ],
   "source": [
    "plt.plot(testPredict[:,0], color='Red',label = 'Predicted')\n",
    "plt.plot(test_Y[0],color ='blue', label = 'Real')\n",
    "plt.title('Test Prediction')\n",
    "plt.grid()\n",
    "plt.legend()"
   ]
  },
  {
   "cell_type": "code",
   "execution_count": 67,
   "id": "married-soccer",
   "metadata": {
    "colab": {
     "base_uri": "https://localhost:8080/",
     "height": 469
    },
    "id": "married-soccer",
    "outputId": "f7df376a-e386-4929-a4fc-2e81f84383ab"
   },
   "outputs": [
    {
     "data": {
      "text/plain": [
       "<matplotlib.legend.Legend at 0x232299aa2b0>"
      ]
     },
     "execution_count": 67,
     "metadata": {},
     "output_type": "execute_result"
    },
    {
     "data": {
      "image/png": "[encoded data removed]",
      "text/plain": [
       "<Figure size 432x288 with 1 Axes>"
      ]
     },
     "metadata": {
      "needs_background": "light"
     },
     "output_type": "display_data"
    }
   ],
   "source": [
    "plt.plot(trainPredict[:,0], color = 'red', label = 'Predicted')\n",
    "plt.plot(train_Y[0],color ='blue', label = 'Real')\n",
    "plt.title('Training Prediction')\n",
    "plt.grid()\n",
    "plt.legend()"
   ]
  },
  {
   "cell_type": "code",
   "execution_count": 68,
   "id": "dramatic-cylinder",
   "metadata": {
    "id": "dramatic-cylinder"
   },
   "outputs": [],
   "source": [
    "model2 = Sequential()\n",
    "model2.add(LSTM(32, input_shape = (1, 1), return_sequences = True))\n",
    "model2.add(LSTM(16))\n",
    "model2.add(Dense(1))\n",
    "model2.compile(loss = 'mean_squared_error', optimizer = 'adam')"
   ]
  },
  {
   "cell_type": "code",
   "execution_count": 69,
   "id": "czech-architect",
   "metadata": {
    "colab": {
     "base_uri": "https://localhost:8080/"
    },
    "id": "czech-architect",
    "outputId": "764f10a7-1e1d-4a0f-82a1-ef48a8393e5b"
   },
   "outputs": [
    {
     "name": "stdout",
     "output_type": "stream",
     "text": [
      "Epoch 1/5\n",
      " - 13s - loss: 0.0036\n",
      "Epoch 2/5\n",
      " - 13s - loss: 1.3043e-04\n",
      "Epoch 3/5\n",
      " - 13s - loss: 1.1918e-04\n",
      "Epoch 4/5\n",
      " - 13s - loss: 1.2328e-04\n",
      "Epoch 5/5\n",
      " - 14s - loss: 1.1583e-04\n",
      "Epoch 1/5\n",
      " - 14s - loss: 1.1702e-04\n",
      "Epoch 2/5\n",
      " - 14s - loss: 1.1664e-04\n",
      "Epoch 3/5\n",
      " - 14s - loss: 1.1660e-04\n",
      "Epoch 4/5\n",
      " - 14s - loss: 1.1428e-04\n",
      "Epoch 5/5\n",
      " - 14s - loss: 1.1736e-04\n",
      "Epoch 1/5\n",
      " - 13s - loss: 1.0585e-04\n",
      "Epoch 2/5\n",
      " - 14s - loss: 1.0866e-04\n",
      "Epoch 3/5\n",
      " - 14s - loss: 1.0940e-04\n",
      "Epoch 4/5\n",
      " - 13s - loss: 1.0353e-04\n",
      "Epoch 5/5\n",
      " - 14s - loss: 1.0986e-04\n",
      "Epoch 1/5\n",
      " - 14s - loss: 9.9879e-05\n",
      "Epoch 2/5\n",
      " - 14s - loss: 1.0513e-04\n",
      "Epoch 3/5\n",
      " - 14s - loss: 1.0431e-04\n",
      "Epoch 4/5\n",
      " - 14s - loss: 1.0097e-04\n",
      "Epoch 5/5\n",
      " - 14s - loss: 1.0198e-04\n",
      "Epoch 1/5\n",
      " - 13s - loss: 9.6068e-05\n",
      "Epoch 2/5\n",
      " - 14s - loss: 9.3032e-05\n",
      "Epoch 3/5\n",
      " - 13s - loss: 9.9884e-05\n",
      "Epoch 4/5\n",
      " - 14s - loss: 9.5653e-05\n",
      "Epoch 5/5\n",
      " - 13s - loss: 1.0090e-04\n",
      "Epoch 1/5\n",
      " - 13s - loss: 9.6613e-05\n",
      "Epoch 2/5\n",
      " - 13s - loss: 9.2020e-05\n",
      "Epoch 3/5\n",
      " - 14s - loss: 9.3894e-05\n",
      "Epoch 4/5\n",
      " - 14s - loss: 9.2596e-05\n",
      "Epoch 5/5\n",
      " - 13s - loss: 9.3029e-05\n",
      "Epoch 1/5\n",
      " - 13s - loss: 9.5066e-05\n",
      "Epoch 2/5\n",
      " - 14s - loss: 9.3437e-05\n",
      "Epoch 3/5\n",
      " - 14s - loss: 9.7472e-05\n",
      "Epoch 4/5\n",
      " - 14s - loss: 9.2282e-05\n",
      "Epoch 5/5\n",
      " - 13s - loss: 9.3694e-05\n",
      "Epoch 1/5\n",
      " - 14s - loss: 9.1768e-05\n",
      "Epoch 2/5\n",
      " - 13s - loss: 9.0676e-05\n",
      "Epoch 3/5\n",
      " - 14s - loss: 8.9512e-05\n",
      "Epoch 4/5\n",
      " - 14s - loss: 8.9577e-05\n",
      "Epoch 5/5\n",
      " - 14s - loss: 8.9828e-05\n",
      "Epoch 1/5\n",
      " - 13s - loss: 9.1251e-05\n",
      "Epoch 2/5\n",
      " - 13s - loss: 8.9601e-05\n",
      "Epoch 3/5\n",
      " - 13s - loss: 8.9158e-05\n",
      "Epoch 4/5\n",
      " - 14s - loss: 8.9694e-05\n",
      "Epoch 5/5\n",
      " - 13s - loss: 8.8880e-05\n",
      "Epoch 1/5\n",
      " - 13s - loss: 9.2786e-05\n",
      "Epoch 2/5\n",
      " - 13s - loss: 8.7781e-05\n",
      "Epoch 3/5\n",
      " - 13s - loss: 8.7450e-05\n",
      "Epoch 4/5\n",
      " - 13s - loss: 8.6569e-05\n",
      "Epoch 5/5\n",
      " - 13s - loss: 8.7770e-05\n"
     ]
    }
   ],
   "source": [
    "new_ohlc_avg = ohlc_avg.copy()\n",
    "\n",
    "for i in range(10):\n",
    "    trainX3, trainY3 = new_dataset(new_ohlc_avg, 1)\n",
    "    trainX3 = np.reshape(trainX3, (trainX3.shape[0], 1, trainX3.shape[1]))\n",
    "    model2.fit(trainX3, trainY3, epochs = 5, batch_size = 1, verbose = 2)\n",
    "    \n",
    "    last_val = new_ohlc_avg[-1]\n",
    "    next_val = model2.predict(np.reshape(last_val,(1,1,1)))\n",
    "    new_ohlc_avg = np.append(new_ohlc_avg, next_val[0])\n",
    "    new_ohlc_avg = new_ohlc_avg.reshape(-1,1)\n",
    "    \n",
    "next_val = scaler.inverse_transform(new_ohlc_avg[-25:])\n",
    "ohlc_avg = scaler.inverse_transform(ohlc_avg)"
   ]
  },
  {
   "cell_type": "code",
   "execution_count": 70,
   "id": "theoretical-glory",
   "metadata": {
    "colab": {
     "base_uri": "https://localhost:8080/"
    },
    "id": "theoretical-glory",
    "outputId": "3c688dfc-8bf2-470f-b1f7-34bc48f07196"
   },
   "outputs": [
    {
     "data": {
      "text/plain": [
       "array([[111.04499975],\n",
       "       [112.21000075],\n",
       "       [112.85000025],\n",
       "       [112.95499975],\n",
       "       [111.73999975],\n",
       "       [110.3549995 ],\n",
       "       [110.74999975],\n",
       "       [110.329998  ],\n",
       "       [112.13500225],\n",
       "       [112.84499925],\n",
       "       [111.635     ],\n",
       "       [112.93500125],\n",
       "       [112.295     ],\n",
       "       [111.47999975],\n",
       "       [111.31999975],\n",
       "       [110.10352178],\n",
       "       [111.76792883],\n",
       "       [113.52847796],\n",
       "       [112.08839201],\n",
       "       [111.16831816],\n",
       "       [111.37134662],\n",
       "       [111.15711935],\n",
       "       [111.32240569],\n",
       "       [110.66263961],\n",
       "       [110.95084645]])"
      ]
     },
     "execution_count": 70,
     "metadata": {},
     "output_type": "execute_result"
    }
   ],
   "source": [
    "next_val"
   ]
  },
  {
   "cell_type": "code",
   "execution_count": 71,
   "id": "arabic-center",
   "metadata": {
    "colab": {
     "base_uri": "https://localhost:8080/"
    },
    "id": "arabic-center",
    "outputId": "6c6ad630-6596-4f9c-aed0-8868a7e5931a"
   },
   "outputs": [
    {
     "data": {
      "text/plain": [
       "array([[ 12.215     ],\n",
       "       [ 11.48      ],\n",
       "       [ 10.9775    ],\n",
       "       ...,\n",
       "       [112.295     ],\n",
       "       [111.47999975],\n",
       "       [111.31999975]])"
      ]
     },
     "execution_count": 71,
     "metadata": {},
     "output_type": "execute_result"
    }
   ],
   "source": [
    "ohlc_avg"
   ]
  },
  {
   "cell_type": "code",
   "execution_count": 72,
   "id": "unable-destiny",
   "metadata": {
    "colab": {
     "base_uri": "https://localhost:8080/",
     "height": 447
    },
    "id": "unable-destiny",
    "outputId": "2ca206f1-9bc7-4833-d4c6-9310995c634a"
   },
   "outputs": [
    {
     "data": {
      "text/plain": [
       "[<matplotlib.lines.Line2D at 0x2322bf81588>]"
      ]
     },
     "execution_count": 72,
     "metadata": {},
     "output_type": "execute_result"
    },
    {
     "data": {
      "image/png": "[encoded data removed]",
      "text/plain": [
       "<Figure size 432x288 with 1 Axes>"
      ]
     },
     "metadata": {
      "needs_background": "light"
     },
     "output_type": "display_data"
    }
   ],
   "source": [
    "plt.plot(next_val)"
   ]
  }
 ],
 "metadata": {
  "colab": {
   "provenance": []
  },
  "kernelspec": {
   "display_name": "Python 3",
   "language": "python",
   "name": "python3"
  },
  "language_info": {
   "codemirror_mode": {
    "name": "ipython",
    "version": 3
   },
   "file_extension": ".py",
   "mimetype": "text/x-python",
   "name": "python",
   "nbconvert_exporter": "python",
   "pygments_lexer": "ipython3",
   "version": "3.7.2"
  }
 },
 "nbformat": 4,
 "nbformat_minor": 5
}
